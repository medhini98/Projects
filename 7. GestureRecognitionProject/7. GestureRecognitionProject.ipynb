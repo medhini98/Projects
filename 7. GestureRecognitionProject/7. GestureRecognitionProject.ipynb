{
 "cells": [
  {
   "cell_type": "markdown",
   "metadata": {
    "id": "QWMdTvvvwWDB"
   },
   "source": [
    "# Gesture Recognition"
   ]
  },
  {
   "cell_type": "code",
   "execution_count": null,
   "metadata": {
    "colab": {
     "base_uri": "https://localhost:8080/"
    },
    "id": "HBimghrRajzN",
    "outputId": "89381097-ccc4-47c9-8721-82cd537af4b8"
   },
   "outputs": [
    {
     "name": "stdout",
     "output_type": "stream",
     "text": [
      "Mounted at /content/drive\n"
     ]
    }
   ],
   "source": [
    "#Connecting to google drive\n",
    "from google.colab import drive\n",
    "drive.mount('/content/drive')"
   ]
  },
  {
   "cell_type": "code",
   "execution_count": 2,
   "metadata": {
    "id": "aWfDQSp-WmGX"
   },
   "outputs": [],
   "source": [
    "import numpy as np\n",
    "import os\n",
    "#from scipy.misc import imread, imresize - deprecated\n",
    "from imageio import imread\n",
    "from skimage.transform import resize\n",
    "import datetime\n",
    "import matplotlib.pyplot as plt\n",
    "import os"
   ]
  },
  {
   "cell_type": "markdown",
   "metadata": {
    "id": "rHk8aPFzWmGY"
   },
   "source": [
    "We set the random seed so that the results don't vary drastically."
   ]
  },
  {
   "cell_type": "code",
   "execution_count": 3,
   "metadata": {
    "id": "BiNEHG8-WmGZ"
   },
   "outputs": [],
   "source": [
    "np.random.seed(30)\n",
    "import random as rn\n",
    "rn.seed(30)\n",
    "from keras import backend as K\n",
    "import tensorflow as tf\n",
    "#tf.set_random_seed(30)"
   ]
  },
  {
   "cell_type": "code",
   "execution_count": null,
   "metadata": {
    "colab": {
     "base_uri": "https://localhost:8080/"
    },
    "id": "ag_4eczvU3fZ",
    "outputId": "cec14747-7653-4ff9-8c63-628f05b0825b"
   },
   "outputs": [
    {
     "name": "stdout",
     "output_type": "stream",
     "text": [
      "Tue Jan 25 17:36:48 2022       \n",
      "+-----------------------------------------------------------------------------+\n",
      "| NVIDIA-SMI 495.46       Driver Version: 460.32.03    CUDA Version: 11.2     |\n",
      "|-------------------------------+----------------------+----------------------+\n",
      "| GPU  Name        Persistence-M| Bus-Id        Disp.A | Volatile Uncorr. ECC |\n",
      "| Fan  Temp  Perf  Pwr:Usage/Cap|         Memory-Usage | GPU-Util  Compute M. |\n",
      "|                               |                      |               MIG M. |\n",
      "|===============================+======================+======================|\n",
      "|   0  Tesla K80           Off  | 00000000:00:04.0 Off |                    0 |\n",
      "| N/A   71C    P8    34W / 149W |      0MiB / 11441MiB |      0%      Default |\n",
      "|                               |                      |                  N/A |\n",
      "+-------------------------------+----------------------+----------------------+\n",
      "                                                                               \n",
      "+-----------------------------------------------------------------------------+\n",
      "| Processes:                                                                  |\n",
      "|  GPU   GI   CI        PID   Type   Process name                  GPU Memory |\n",
      "|        ID   ID                                                   Usage      |\n",
      "|=============================================================================|\n",
      "|  No running processes found                                                 |\n",
      "+-----------------------------------------------------------------------------+\n"
     ]
    }
   ],
   "source": [
    "!nvidia-smi"
   ]
  },
  {
   "cell_type": "markdown",
   "metadata": {
    "id": "n-onG0YPbSGs"
   },
   "source": [
    "!unzip drive/MyDrive/IIIT-B_CollabNB/Gesture Recognition Project/Project_data.zip\n",
    "os.chdir('/content/drive/MyDrive/IIIT-B_CollabNB/Gesture Recognition Project')  #change dir\n",
    "!unzip -q Project_data.zip -d data/  #unzip data "
   ]
  },
  {
   "cell_type": "markdown",
   "metadata": {
    "id": "vxrdugeiw-23"
   },
   "source": [
    "### Defining train and test paths:"
   ]
  },
  {
   "cell_type": "code",
   "execution_count": 8,
   "metadata": {
    "colab": {
     "base_uri": "https://localhost:8080/"
    },
    "id": "KGy4OwS4lhqI",
    "outputId": "00aa41a5-92a1-4609-dda0-ef5713343ccf"
   },
   "outputs": [
    {
     "name": "stdout",
     "output_type": "stream",
     "text": [
      "No. of video files in train data: 663\n",
      "No. of video files in validation data: 100\n"
     ]
    }
   ],
   "source": [
    "tr_l = os.listdir('/content/drive/MyDrive/IIIT-B_CollabNB/Gesture Recognition Project/data/Project_data/train') # dir is your directory path\n",
    "number_files_tr = len(tr_l)\n",
    "v_l = os.listdir('/content/drive/MyDrive/IIIT-B_CollabNB/Gesture Recognition Project/data/Project_data/val') # dir is your directory path\n",
    "number_files_l = len(v_l)\n",
    "print('No. of video files in train data: '+str(number_files_tr))\n",
    "print('No. of video files in validation data: '+str(number_files_l))"
   ]
  },
  {
   "cell_type": "code",
   "execution_count": 9,
   "metadata": {
    "id": "iqRa6L7UWmGa"
   },
   "outputs": [],
   "source": [
    "train_doc = np.random.permutation(open('/content/drive/MyDrive/IIIT-B_CollabNB/Gesture Recognition Project/data/Project_data/train.csv').readlines())\n",
    "val_doc = np.random.permutation(open('/content/drive/MyDrive/IIIT-B_CollabNB/Gesture Recognition Project/data/Project_data/val.csv').readlines())\n",
    "batch_size = 64 "
   ]
  },
  {
   "cell_type": "markdown",
   "metadata": {
    "id": "2f1QTy8NWmGa"
   },
   "source": [
    "## Generator\n",
    "In the generator, we preprocess the images as the images are of 2 different dimensions as well as create a batch of video frames."
   ]
  },
  {
   "cell_type": "markdown",
   "metadata": {
    "id": "DTlQ6HL9_mf1"
   },
   "source": [
    "Images have two sizes: 360x360 and 120x120. All images are therefore resized to 128x128.  "
   ]
  },
  {
   "cell_type": "code",
   "execution_count": 10,
   "metadata": {
    "id": "V7rlGMTTMYYQ"
   },
   "outputs": [],
   "source": [
    "import cv2"
   ]
  },
  {
   "cell_type": "code",
   "execution_count": 11,
   "metadata": {
    "id": "ebwH2w_ZxuqW"
   },
   "outputs": [],
   "source": [
    "def generator(source_path, folder_list, batch_size,idx_n,y,z):\n",
    "    print( 'Source path = ', source_path, '; batch size =', batch_size) #batch_size: Creating empty containers (zero tensors) to input values of images\n",
    "    img_idx = [i for i in range(0,29,idx_n)] #creating list of image numbers for a particular video as not all 30 images are needed, to reduce training time\n",
    "    while True:\n",
    "        t = np.random.permutation(folder_list)\n",
    "        num_batches = len(t)//batch_size  # number of videos//batch_size (remaining videos dealt with separately)\n",
    "        for batch in range(num_batches): \n",
    "            batch_data = np.zeros((batch_size,len(img_idx),y,z,3)) #(y,z) is the final size of the input images and 3 is the number of channels RGB\n",
    "            batch_labels = np.zeros((batch_size,5)) # batch_labels is the one hot representation of the output\n",
    "            for folder in range(batch_size): \n",
    "                imgs = os.listdir(source_path+'/'+ t[folder + (batch*batch_size)].split(';')[0]) # read all the images in the folder\n",
    "                for idx,item in enumerate(img_idx): #  Iterate over the frames/images of a folder to read them in\n",
    "                    image = imread(source_path+'/'+ t[folder + (batch*batch_size)].strip().split(';')[0]+'/'+imgs[item]).astype(np.float32)\n",
    "                    #cropping and resizing images as images were of 2 different sizes and the conv3D will throw error if the inputs in a batch have different shapes\n",
    "                    crop_image = cv2.cvtColor(image, cv2.COLOR_BGR2RGB)\n",
    "                    crop_image = crop_image[0:y, 20:20+y]\n",
    "                    res_img = resize(crop_image,(y,z,3))\n",
    "                    #normalise and feed in the cropped image\n",
    "                    batch_data[folder,idx,:,:,0] = (res_img[:,:,0])/255\n",
    "                    batch_data[folder,idx,:,:,1] = (res_img[:,:,1])/255\n",
    "                    batch_data[folder,idx,:,:,2] = (res_img[:,:,2])/255\n",
    "                    \n",
    "                batch_labels[folder, int(t[folder + (batch*batch_size)].strip().split(';')[2])] = 1\n",
    "            yield batch_data, batch_labels\n",
    "\n",
    "        rem_batches = len(t)%batch_size\n",
    "        if rem_batches!=0: \n",
    "          for folder in range(rem_batches): \n",
    "            imgs = os.listdir(source_path+'/'+ t[folder + (batch*rem_batches)].split(';')[0]) \n",
    "            for idx,item in enumerate(img_idx): \n",
    "              image = imread(source_path+'/'+ t[folder + (batch*rem_batches)].strip().split(';')[0]+'/'+imgs[item]).astype(np.float32)\n",
    "\n",
    "              crop_image = cv2.cvtColor(image, cv2.COLOR_BGR2RGB)\n",
    "              crop_image = crop_image[0:y, 20:20+y]\n",
    "              res_img = resize(crop_image,(y,z,3))\n",
    "\n",
    "              batch_data[folder,idx,:,:,0] = (res_img[:,:,0])/255\n",
    "              batch_data[folder,idx,:,:,1] = (res_img[:,:,1])/255\n",
    "              batch_data[folder,idx,:,:,2] = (res_img[:,:,2])/255\n",
    "                    \n",
    "            batch_labels[folder, int(t[folder + (batch*rem_batches)].strip().split(';')[2])] = 1\n",
    "          yield batch_data, batch_labels "
   ]
  },
  {
   "cell_type": "code",
   "execution_count": 12,
   "metadata": {
    "colab": {
     "base_uri": "https://localhost:8080/"
    },
    "id": "OR6K_eMHWmGc",
    "outputId": "5b3d34c9-b4e9-4a43-d17b-248733906310"
   },
   "outputs": [
    {
     "name": "stdout",
     "output_type": "stream",
     "text": [
      "# training sequences = 663\n",
      "# validation sequences = 100\n",
      "# epochs = 20\n"
     ]
    }
   ],
   "source": [
    "curr_dt_time = datetime.datetime.now()\n",
    "train_path = '/content/drive/MyDrive/IIIT-B_CollabNB/Gesture Recognition Project/data/Project_data/train'\n",
    "val_path = '/content/drive/MyDrive/IIIT-B_CollabNB/Gesture Recognition Project/data/Project_data/val'\n",
    "num_train_sequences = len(train_doc)\n",
    "print('# training sequences =', num_train_sequences)\n",
    "num_val_sequences = len(val_doc)\n",
    "print('# validation sequences =', num_val_sequences)\n",
    "num_epochs = 20 # choose the number of epochs\n",
    "print ('# epochs =', num_epochs)"
   ]
  },
  {
   "cell_type": "markdown",
   "metadata": {
    "id": "je4Qhb_lWmGd"
   },
   "source": [
    "Creating the `train_generator` and the `val_generator` which will be used in `.fit_generator`."
   ]
  },
  {
   "cell_type": "code",
   "execution_count": 13,
   "metadata": {
    "id": "nblF9z0IWmGe"
   },
   "outputs": [],
   "source": [
    "train_generator = generator(train_path, train_doc, batch_size, 2, 128, 128)\n",
    "val_generator = generator(val_path, val_doc, batch_size, 2, 128, 128)"
   ]
  },
  {
   "cell_type": "markdown",
   "metadata": {
    "id": "TLADFxEGxJqF"
   },
   "source": [
    "### Checking an image from the dataset:"
   ]
  },
  {
   "cell_type": "code",
   "execution_count": 15,
   "metadata": {
    "colab": {
     "base_uri": "https://localhost:8080/"
    },
    "id": "CME8-Bx4JdIz",
    "outputId": "76ada431-ff3b-4e54-99ae-17ff7c57ac5e"
   },
   "outputs": [
    {
     "name": "stdout",
     "output_type": "stream",
     "text": [
      "Source path =  /content/drive/MyDrive/IIIT-B_CollabNB/Gesture Recognition Project/data/Project_data/val ; batch size = 64\n"
     ]
    }
   ],
   "source": [
    "sample_val_batch_data, sample_val_batch_labels = next(val_generator)"
   ]
  },
  {
   "cell_type": "code",
   "execution_count": 16,
   "metadata": {
    "colab": {
     "base_uri": "https://localhost:8080/",
     "height": 203
    },
    "id": "Bj0USV7eJH8W",
    "outputId": "5b430049-e727-47c4-de29-a3931291de25"
   },
   "outputs": [
    {
     "data": {
      "image/png": "[encoded data removed]",
      "text/plain": [
       "<Figure size 432x288 with 2 Axes>"
      ]
     },
     "metadata": {
      "needs_background": "light"
     },
     "output_type": "display_data"
    }
   ],
   "source": [
    "fig, ax = plt.subplots(1,2)\n",
    "ax[0].imshow(sample_val_batch_data[16,10,:,:,:])   \n",
    "ax[1].imshow(sample_val_batch_data[25,10,:,:,:])\n",
    "plt.show()"
   ]
  },
  {
   "cell_type": "markdown",
   "metadata": {
    "id": "GoDAR03wWmGe"
   },
   "source": [
    "The `steps_per_epoch` and `validation_steps` are used by `fit_generator` to decide the number of next() calls it need to make."
   ]
  },
  {
   "cell_type": "code",
   "execution_count": null,
   "metadata": {
    "id": "tZmxYdRoWmGf"
   },
   "outputs": [],
   "source": [
    "if (num_train_sequences%batch_size) == 0:\n",
    "    steps_per_epoch = int(num_train_sequences/batch_size)\n",
    "else:\n",
    "    steps_per_epoch = (num_train_sequences//batch_size) + 1\n",
    "\n",
    "if (num_val_sequences%batch_size) == 0:\n",
    "    validation_steps = int(num_val_sequences/batch_size)\n",
    "else:\n",
    "    validation_steps = (num_val_sequences//batch_size) + 1"
   ]
  },
  {
   "cell_type": "markdown",
   "metadata": {
    "id": "6ciPdgf1WmGc"
   },
   "source": [
    "## Model\n"
   ]
  },
  {
   "cell_type": "code",
   "execution_count": null,
   "metadata": {
    "id": "vsIHB3MIWmGc"
   },
   "outputs": [],
   "source": [
    "from keras.models import Sequential, Model\n",
    "from keras.layers import Dense, GRU, Flatten, TimeDistributed, Flatten, BatchNormalization, Activation, Dropout\n",
    "from keras.layers.convolutional import Conv3D, MaxPooling3D\n",
    "from keras.callbacks import ModelCheckpoint, ReduceLROnPlateau\n",
    "from keras import optimizers\n",
    "from keras.layers.convolutional import Conv2D, MaxPooling2D\n",
    "from keras.layers.recurrent import LSTM\n",
    "#from keras.applications.vgg16 import VGG16"
   ]
  },
  {
   "cell_type": "markdown",
   "metadata": {
    "id": "q2MCj9Rucnp2"
   },
   "source": [
    "**Model 1 - Conv3D_1 - Training Conv3D Model on batch size = 64, no of frames = 15 and img size = 128x128.**"
   ]
  },
  {
   "cell_type": "code",
   "execution_count": null,
   "metadata": {
    "id": "xW4-h5YZ87dS"
   },
   "outputs": [],
   "source": [
    "optimiser = 'adam' "
   ]
  },
  {
   "cell_type": "code",
   "execution_count": null,
   "metadata": {
    "colab": {
     "base_uri": "https://localhost:8080/"
    },
    "id": "CwmXKXQATDCv",
    "outputId": "8f0fd393-7c44-479c-eca8-b86b8460545c"
   },
   "outputs": [
    {
     "name": "stdout",
     "output_type": "stream",
     "text": [
      "Model: \"sequential_1\"\n",
      "_________________________________________________________________\n",
      " Layer (type)                Output Shape              Param #   \n",
      "=================================================================\n",
      " conv3d_4 (Conv3D)           (None, 15, 128, 128, 16)  1312      \n",
      "                                                                 \n",
      " conv3d_5 (Conv3D)           (None, 15, 128, 128, 16)  6928      \n",
      "                                                                 \n",
      " batch_normalization (BatchN  (None, 15, 128, 128, 16)  64       \n",
      " ormalization)                                                   \n",
      "                                                                 \n",
      " max_pooling3d_3 (MaxPooling  (None, 7, 64, 64, 16)    0         \n",
      " 3D)                                                             \n",
      "                                                                 \n",
      " conv3d_6 (Conv3D)           (None, 7, 64, 64, 16)     6928      \n",
      "                                                                 \n",
      " batch_normalization_1 (Batc  (None, 7, 64, 64, 16)    64        \n",
      " hNormalization)                                                 \n",
      "                                                                 \n",
      " max_pooling3d_4 (MaxPooling  (None, 3, 32, 32, 16)    0         \n",
      " 3D)                                                             \n",
      "                                                                 \n",
      " conv3d_7 (Conv3D)           (None, 3, 32, 32, 32)     13856     \n",
      "                                                                 \n",
      " batch_normalization_2 (Batc  (None, 3, 32, 32, 32)    128       \n",
      " hNormalization)                                                 \n",
      "                                                                 \n",
      " max_pooling3d_5 (MaxPooling  (None, 1, 16, 16, 32)    0         \n",
      " 3D)                                                             \n",
      "                                                                 \n",
      " conv3d_8 (Conv3D)           (None, 1, 16, 16, 32)     27680     \n",
      "                                                                 \n",
      " dropout (Dropout)           (None, 1, 16, 16, 32)     0         \n",
      "                                                                 \n",
      " flatten_1 (Flatten)         (None, 8192)              0         \n",
      "                                                                 \n",
      " dense_3 (Dense)             (None, 64)                524352    \n",
      "                                                                 \n",
      " dense_4 (Dense)             (None, 5)                 325       \n",
      "                                                                 \n",
      "=================================================================\n",
      "Total params: 581,637\n",
      "Trainable params: 581,509\n",
      "Non-trainable params: 128\n",
      "_________________________________________________________________\n"
     ]
    }
   ],
   "source": [
    "model1 = Sequential()\n",
    "model1.add(Conv3D(filters = 16, kernel_size = (3,3,3), padding='same',\n",
    "                 activation ='relu', input_shape = (15,128,128,3)))  \n",
    "model1.add(Conv3D(filters = 16, kernel_size = (3,3,3), padding='same',\n",
    "                 activation ='relu'))\n",
    "model1.add(BatchNormalization())\n",
    "model1.add(MaxPooling3D(pool_size=(2,2,2)))\n",
    "model1.add(Conv3D(filters = 16, kernel_size = (3,3,3), padding='same',\n",
    "                 activation ='relu'))\n",
    "model1.add(BatchNormalization())\n",
    "model1.add(MaxPooling3D(pool_size=(2,2,2)))\n",
    "model1.add(Conv3D(filters = 32, kernel_size = (3,3,3), padding='same',\n",
    "                 activation ='relu'))\n",
    "model1.add(BatchNormalization())\n",
    "model1.add(MaxPooling3D(pool_size=(2,2,2)))\n",
    "model1.add(Conv3D(filters = 32, kernel_size = (3,3,3), padding='same',\n",
    "                 activation ='relu'))\n",
    "model1.add(Dropout(0.5))\n",
    "\n",
    "\n",
    "model1.add(Flatten())\n",
    "model1.add(Dense(64, activation='relu')) # fully connected\n",
    "\n",
    "#Softmax layer\n",
    "model1.add(Dense(5, activation = \"softmax\"))\n",
    "model1.summary()"
   ]
  },
  {
   "cell_type": "markdown",
   "metadata": {
    "id": "_bGil07oWmGd"
   },
   "source": [
    "Now that you have written the model, the next step is to `compile` the model. When you print the `summary` of the model, you'll see the total number of parameters you have to train."
   ]
  },
  {
   "cell_type": "code",
   "execution_count": null,
   "metadata": {
    "id": "PlZJHbbjWmGd",
    "scrolled": true
   },
   "outputs": [],
   "source": [
    "model1.compile(optimizer=optimiser, loss='categorical_crossentropy', metrics=['categorical_accuracy'])"
   ]
  },
  {
   "cell_type": "markdown",
   "metadata": {
    "id": "5A_FJk_dWmGf"
   },
   "source": [
    "Let us now fit the model. This will start training the model and with the help of the checkpoints, you'll be able to save the model at the end of each epoch."
   ]
  },
  {
   "cell_type": "markdown",
   "metadata": {
    "id": "ebt8Cb9xfS1z"
   },
   "source": [
    "Ablation Experiment:"
   ]
  },
  {
   "cell_type": "code",
   "execution_count": null,
   "metadata": {
    "colab": {
     "base_uri": "https://localhost:8080/"
    },
    "id": "q41eyTO6PQGt",
    "outputId": "6738c484-24e5-487a-c662-e613ec0acc5f"
   },
   "outputs": [
    {
     "name": "stdout",
     "output_type": "stream",
     "text": [
      "Source path =  /content/drive/MyDrive/IIIT-B_CollabNB/Gesture Recognition Project/data/Project_data/train ; batch size = 64\n",
      "11/11 [==============================] - ETA: 0s - loss: 1.9380 - categorical_accuracy: 0.2614  Source path =  /content/drive/MyDrive/IIIT-B_CollabNB/Gesture Recognition Project/data/Project_data/val ; batch size = 64\n",
      "11/11 [==============================] - 2138s 212s/step - loss: 1.9380 - categorical_accuracy: 0.2614 - val_loss: 1.6098 - val_categorical_accuracy: 0.1719\n"
     ]
    },
    {
     "data": {
      "text/plain": [
       "<keras.callbacks.History at 0x7f9950127150>"
      ]
     },
     "execution_count": 19,
     "metadata": {},
     "output_type": "execute_result"
    }
   ],
   "source": [
    "model1.fit(train_generator, steps_per_epoch=steps_per_epoch, epochs=1, verbose=1,\n",
    " validation_data=val_generator, validation_steps=validation_steps, class_weight=None, workers=1, initial_epoch=0)"
   ]
  },
  {
   "cell_type": "markdown",
   "metadata": {
    "id": "SnNzkG3Ua0Wf"
   },
   "source": [
    "### Callback:"
   ]
  },
  {
   "cell_type": "code",
   "execution_count": null,
   "metadata": {
    "id": "Ic97ktHgTylm"
   },
   "outputs": [],
   "source": [
    "model_name = 'model_init' + '_' + str(curr_dt_time).replace(' ','').replace(':','_') + '/'\n",
    "    \n",
    "if not os.path.exists(model_name):\n",
    "    os.mkdir(model_name)\n",
    "        \n",
    "filepath = model_name + 'model-{epoch:05d}-{loss:.5f}-{categorical_accuracy:.5f}-{val_loss:.5f}-{val_categorical_accuracy:.5f}.h5'\n",
    "\n",
    "checkpoint = ModelCheckpoint(filepath, monitor='val_loss', verbose=1, save_best_only=False, save_weights_only=False, mode='auto', save_freq=1)\n",
    "\n",
    "LR = ReduceLROnPlateau(monitor='val_loss',factor=0.001, patience=4, min_lr=0.0001) # write the REducelronplateau code here\n",
    "callbacks_list = [checkpoint, LR]"
   ]
  },
  {
   "cell_type": "markdown",
   "metadata": {
    "id": "kb0rhEl_a4UV"
   },
   "source": [
    "#### Model Training:"
   ]
  },
  {
   "cell_type": "code",
   "execution_count": null,
   "metadata": {
    "colab": {
     "base_uri": "https://localhost:8080/"
    },
    "id": "C4Y-9S7YdtdD",
    "outputId": "d0c7fc51-397c-4789-d852-2f6105f32bfa"
   },
   "outputs": [
    {
     "name": "stdout",
     "output_type": "stream",
     "text": [
      "Epoch 1/20\n",
      "11/11 [==============================] - 219s 22s/step - loss: 1.3740 - categorical_accuracy: 0.3949 - val_loss: 1.7834 - val_categorical_accuracy: 0.1953\n",
      "Epoch 2/20\n",
      "11/11 [==============================] - 143s 14s/step - loss: 1.2271 - categorical_accuracy: 0.5014 - val_loss: 1.7830 - val_categorical_accuracy: 0.2188\n",
      "Epoch 3/20\n",
      "11/11 [==============================] - 130s 13s/step - loss: 1.0835 - categorical_accuracy: 0.5597 - val_loss: 1.8526 - val_categorical_accuracy: 0.2344\n",
      "Epoch 4/20\n",
      "11/11 [==============================] - 139s 14s/step - loss: 0.9813 - categorical_accuracy: 0.6520 - val_loss: 1.6759 - val_categorical_accuracy: 0.2188\n",
      "Epoch 5/20\n",
      "11/11 [==============================] - 136s 13s/step - loss: 0.8443 - categorical_accuracy: 0.6932 - val_loss: 1.6113 - val_categorical_accuracy: 0.2969\n",
      "Epoch 6/20\n",
      "11/11 [==============================] - 136s 13s/step - loss: 0.7449 - categorical_accuracy: 0.7429 - val_loss: 1.5209 - val_categorical_accuracy: 0.2969\n",
      "Epoch 7/20\n",
      "11/11 [==============================] - 133s 13s/step - loss: 0.7405 - categorical_accuracy: 0.7429 - val_loss: 1.4855 - val_categorical_accuracy: 0.4375\n",
      "Epoch 8/20\n",
      "11/11 [==============================] - 143s 14s/step - loss: 0.7655 - categorical_accuracy: 0.7770 - val_loss: 1.6761 - val_categorical_accuracy: 0.2812\n",
      "Epoch 9/20\n",
      "11/11 [==============================] - 132s 13s/step - loss: 0.6098 - categorical_accuracy: 0.8111 - val_loss: 1.6965 - val_categorical_accuracy: 0.3047\n",
      "Epoch 10/20\n",
      "11/11 [==============================] - 144s 14s/step - loss: 0.7635 - categorical_accuracy: 0.8139 - val_loss: 1.7700 - val_categorical_accuracy: 0.3906\n",
      "Epoch 11/20\n",
      "11/11 [==============================] - 133s 13s/step - loss: 0.7015 - categorical_accuracy: 0.8480 - val_loss: 1.8988 - val_categorical_accuracy: 0.2969\n",
      "Epoch 12/20\n",
      "11/11 [==============================] - 145s 14s/step - loss: 1.0621 - categorical_accuracy: 0.7685 - val_loss: 2.2693 - val_categorical_accuracy: 0.2656\n",
      "Epoch 13/20\n",
      "11/11 [==============================] - 134s 13s/step - loss: 1.3352 - categorical_accuracy: 0.7585 - val_loss: 2.5796 - val_categorical_accuracy: 0.3281\n",
      "Epoch 14/20\n",
      "11/11 [==============================] - 145s 14s/step - loss: 1.6056 - categorical_accuracy: 0.7074 - val_loss: 2.4425 - val_categorical_accuracy: 0.3281\n",
      "Epoch 15/20\n",
      "11/11 [==============================] - 134s 13s/step - loss: 1.4651 - categorical_accuracy: 0.7344 - val_loss: 4.0408 - val_categorical_accuracy: 0.3281\n",
      "Epoch 16/20\n",
      "11/11 [==============================] - 146s 14s/step - loss: 1.3828 - categorical_accuracy: 0.7656 - val_loss: 9.5326 - val_categorical_accuracy: 0.2656\n",
      "Epoch 17/20\n",
      "11/11 [==============================] - 135s 13s/step - loss: 2.3725 - categorical_accuracy: 0.7159 - val_loss: 8.5823 - val_categorical_accuracy: 0.3516\n",
      "Epoch 18/20\n",
      "11/11 [==============================] - 146s 14s/step - loss: 2.2840 - categorical_accuracy: 0.7301 - val_loss: 5.4129 - val_categorical_accuracy: 0.3594\n",
      "Epoch 19/20\n",
      "11/11 [==============================] - 136s 13s/step - loss: 2.8310 - categorical_accuracy: 0.7188 - val_loss: 7.6016 - val_categorical_accuracy: 0.4297\n",
      "Epoch 20/20\n",
      "11/11 [==============================] - 143s 14s/step - loss: 4.4165 - categorical_accuracy: 0.6491 - val_loss: 6.4411 - val_categorical_accuracy: 0.4062\n"
     ]
    },
    {
     "data": {
      "text/plain": [
       "<keras.callbacks.History at 0x7f99500918d0>"
      ]
     },
     "execution_count": 21,
     "metadata": {},
     "output_type": "execute_result"
    }
   ],
   "source": [
    "model1.fit(train_generator, steps_per_epoch=steps_per_epoch, epochs=20, verbose=1,\n",
    " validation_data=val_generator, validation_steps=validation_steps, class_weight=None, workers=1, initial_epoch=0)"
   ]
  },
  {
   "cell_type": "markdown",
   "metadata": {
    "id": "-uoR5h2acyb4"
   },
   "source": [
    "Model 2 - Conv3D_2 \n",
    "**Model 2 - Conv3D_2 - Training Conv3D Model on batch size = 64, no of frames = 30 and img size = 128x128.**\n",
    "\n",
    "train_generator = generator(train_path, train_doc, batch_size, 1, 128, 128)\n",
    "val_generator = generator(val_path, val_doc, batch_size, 1, 128, 128)\n",
    "\n",
    "model1.fit_generator(train_generator, steps_per_epoch=steps_per_epoch, epochs=20, verbose=1, \n",
    "                    validation_data=val_generator, \n",
    "                    validation_steps=validation_steps, class_weight=None, workers=1, initial_epoch=0)\n",
    "\n",
    "Model 3 - Conv3D_3 \n",
    "**Model 3 - Conv3D_3 - Training Conv3D Model on batch size = 64, no of frames = 15 and img size = 200x200.**\n",
    "\n",
    "train_generator = generator(train_path, train_doc, batch_size, 2, 200, 200)\n",
    "val_generator = generator(val_path, val_doc, batch_size, 2, 200, 200)\n",
    "\n",
    "model1.fit_generator(train_generator, steps_per_epoch=steps_per_epoch, epochs=20, verbose=1, \n",
    "                    validation_data=val_generator, \n",
    "                    validation_steps=validation_steps, class_weight=None, workers=1, initial_epoch=0)\n"
   ]
  },
  {
   "cell_type": "markdown",
   "metadata": {
    "id": "gCFX0WCSmf5b"
   },
   "source": [
    "### Model 4 - Conv2D + LSTM\n",
    "- Refer: https://medium.com/smileinnovation/how-to-work-with-time-distributed-data-in-a-neural-network-b8b39aa4ce00"
   ]
  },
  {
   "cell_type": "code",
   "execution_count": null,
   "metadata": {
    "colab": {
     "base_uri": "https://localhost:8080/"
    },
    "id": "wld7HfVRnLnN",
    "outputId": "77d4335e-3bb9-4c3b-d6e0-faf8f39db498"
   },
   "outputs": [
    {
     "name": "stdout",
     "output_type": "stream",
     "text": [
      "Model: \"sequential_2\"\n",
      "_________________________________________________________________\n",
      " Layer (type)                Output Shape              Param #   \n",
      "=================================================================\n",
      " time_distributed (TimeDistr  (None, 15, 128, 128, 16)  448      \n",
      " ibuted)                                                         \n",
      "                                                                 \n",
      " time_distributed_1 (TimeDis  (None, 15, 64, 64, 16)   0         \n",
      " tributed)                                                       \n",
      "                                                                 \n",
      " time_distributed_2 (TimeDis  (None, 15, 64, 64, 32)   4640      \n",
      " tributed)                                                       \n",
      "                                                                 \n",
      " time_distributed_3 (TimeDis  (None, 15, 32, 32, 32)   0         \n",
      " tributed)                                                       \n",
      "                                                                 \n",
      " time_distributed_4 (TimeDis  (None, 15, 32, 32, 64)   18496     \n",
      " tributed)                                                       \n",
      "                                                                 \n",
      " time_distributed_5 (TimeDis  (None, 15, 16, 16, 64)   0         \n",
      " tributed)                                                       \n",
      "                                                                 \n",
      " time_distributed_6 (TimeDis  (None, 15, 16, 16, 128)  73856     \n",
      " tributed)                                                       \n",
      "                                                                 \n",
      " time_distributed_7 (TimeDis  (None, 15, 16, 16, 128)  512       \n",
      " tributed)                                                       \n",
      "                                                                 \n",
      " time_distributed_8 (TimeDis  (None, 15, 8, 8, 128)    0         \n",
      " tributed)                                                       \n",
      "                                                                 \n",
      " time_distributed_9 (TimeDis  (None, 15, 8192)         0         \n",
      " tributed)                                                       \n",
      "                                                                 \n",
      " lstm (LSTM)                 (None, 128)               4260352   \n",
      "                                                                 \n",
      " dropout_1 (Dropout)         (None, 128)               0         \n",
      "                                                                 \n",
      " dense_5 (Dense)             (None, 5)                 645       \n",
      "                                                                 \n",
      "=================================================================\n",
      "Total params: 4,358,949\n",
      "Trainable params: 4,358,693\n",
      "Non-trainable params: 256\n",
      "_________________________________________________________________\n"
     ]
    }
   ],
   "source": [
    "model4 = Sequential()\n",
    "model4.add(TimeDistributed(Conv2D(16, (3,3), padding='same', activation='relu'),input_shape = (15, 128, 128, 3)))\n",
    "model4.add(TimeDistributed(MaxPooling2D((2,2))))\n",
    "\n",
    "model4.add(TimeDistributed(Conv2D(32, (3,3), padding='same', activation='relu')))\n",
    "model4.add(TimeDistributed(MaxPooling2D((2,2))))\n",
    "\n",
    "model4.add(TimeDistributed(Conv2D(64, (3,3), padding='same', activation='relu')))\n",
    "model4.add(TimeDistributed(MaxPooling2D((2,2))))\n",
    "\n",
    "model4.add(TimeDistributed(Conv2D(128, (3,3), padding='same', activation='relu')))\n",
    "model4.add(TimeDistributed(BatchNormalization()))\n",
    "model4.add(TimeDistributed(MaxPooling2D((2,2))))\n",
    "\n",
    "model4.add(TimeDistributed(Flatten()))\n",
    "\n",
    "model4.add(LSTM(128, activation='relu', return_sequences=False))\n",
    "model4.add(Dropout(0.25))\n",
    "\n",
    "model4.add(Dense(5, activation='softmax'))\n",
    "model4.summary()"
   ]
  },
  {
   "cell_type": "code",
   "execution_count": null,
   "metadata": {
    "id": "NpWQk6DgrS_O"
   },
   "outputs": [],
   "source": [
    "model4.compile(optimizer=optimiser, loss='categorical_crossentropy', metrics=['categorical_accuracy'])"
   ]
  },
  {
   "cell_type": "code",
   "execution_count": null,
   "metadata": {
    "colab": {
     "base_uri": "https://localhost:8080/"
    },
    "id": "hvb9RNburXRf",
    "outputId": "f09a8dd4-5d4f-4be8-a890-8643a4a99f5a"
   },
   "outputs": [
    {
     "name": "stderr",
     "output_type": "stream",
     "text": [
      "/usr/local/lib/python3.7/dist-packages/ipykernel_launcher.py:3: UserWarning: `Model.fit_generator` is deprecated and will be removed in a future version. Please use `Model.fit`, which supports generators.\n",
      "  This is separate from the ipykernel package so we can avoid doing imports until\n"
     ]
    },
    {
     "name": "stdout",
     "output_type": "stream",
     "text": [
      "Epoch 1/20\n",
      "11/11 [==============================] - 122s 11s/step - loss: 11.2364 - categorical_accuracy: 0.2228 - val_loss: 1.5780 - val_categorical_accuracy: 0.2451\n",
      "Epoch 2/20\n",
      "11/11 [==============================] - 115s 11s/step - loss: 3.5045 - categorical_accuracy: 0.2674 - val_loss: 1.5809 - val_categorical_accuracy: 0.3137\n",
      "Epoch 3/20\n",
      "11/11 [==============================] - 127s 13s/step - loss: 2.3520 - categorical_accuracy: 0.2923 - val_loss: 1.6771 - val_categorical_accuracy: 0.2549\n",
      "Epoch 4/20\n",
      "11/11 [==============================] - 127s 13s/step - loss: 1.8190 - categorical_accuracy: 0.2781 - val_loss: 1.6279 - val_categorical_accuracy: 0.2353\n",
      "Epoch 5/20\n",
      "11/11 [==============================] - 117s 12s/step - loss: 1.9780 - categorical_accuracy: 0.3280 - val_loss: 1.5921 - val_categorical_accuracy: 0.2647\n",
      "Epoch 6/20\n",
      "11/11 [==============================] - 126s 13s/step - loss: 1.4619 - categorical_accuracy: 0.4135 - val_loss: 1.5665 - val_categorical_accuracy: 0.2745\n",
      "Epoch 7/20\n",
      "11/11 [==============================] - 127s 13s/step - loss: 1.4403 - categorical_accuracy: 0.3904 - val_loss: 1.5851 - val_categorical_accuracy: 0.2647\n",
      "Epoch 8/20\n",
      "11/11 [==============================] - 116s 11s/step - loss: 1.3010 - categorical_accuracy: 0.4617 - val_loss: 1.5526 - val_categorical_accuracy: 0.3137\n",
      "Epoch 9/20\n",
      "11/11 [==============================] - 127s 13s/step - loss: 1.5058 - categorical_accuracy: 0.4225 - val_loss: 1.5701 - val_categorical_accuracy: 0.3039\n",
      "Epoch 10/20\n",
      "11/11 [==============================] - 126s 13s/step - loss: 1.2867 - categorical_accuracy: 0.4492 - val_loss: 1.5699 - val_categorical_accuracy: 0.2549\n",
      "Epoch 11/20\n",
      "11/11 [==============================] - 117s 12s/step - loss: 1.2810 - categorical_accuracy: 0.4439 - val_loss: 1.5544 - val_categorical_accuracy: 0.3922\n",
      "Epoch 12/20\n",
      "11/11 [==============================] - 117s 12s/step - loss: 1.1390 - categorical_accuracy: 0.4795 - val_loss: 1.5348 - val_categorical_accuracy: 0.4118\n",
      "Epoch 13/20\n",
      "11/11 [==============================] - 116s 11s/step - loss: 1.1426 - categorical_accuracy: 0.4973 - val_loss: 1.5596 - val_categorical_accuracy: 0.3235\n",
      "Epoch 14/20\n",
      "11/11 [==============================] - 117s 12s/step - loss: 1.1218 - categorical_accuracy: 0.5258 - val_loss: 1.5443 - val_categorical_accuracy: 0.3725\n",
      "Epoch 15/20\n",
      "11/11 [==============================] - 116s 12s/step - loss: 1.0544 - categorical_accuracy: 0.5651 - val_loss: 1.5120 - val_categorical_accuracy: 0.4314\n",
      "Epoch 16/20\n",
      "11/11 [==============================] - 116s 11s/step - loss: 0.9855 - categorical_accuracy: 0.5793 - val_loss: 1.4922 - val_categorical_accuracy: 0.4314\n",
      "Epoch 17/20\n",
      "11/11 [==============================] - 127s 13s/step - loss: 0.8802 - categorical_accuracy: 0.6471 - val_loss: 1.4488 - val_categorical_accuracy: 0.3824\n",
      "Epoch 18/20\n",
      "11/11 [==============================] - 128s 13s/step - loss: 0.8897 - categorical_accuracy: 0.6453 - val_loss: 1.4902 - val_categorical_accuracy: 0.3333\n",
      "Epoch 19/20\n",
      "11/11 [==============================] - 127s 13s/step - loss: 0.8445 - categorical_accuracy: 0.6613 - val_loss: 1.4176 - val_categorical_accuracy: 0.3529\n",
      "Epoch 20/20\n",
      "11/11 [==============================] - 127s 13s/step - loss: 0.7453 - categorical_accuracy: 0.7041 - val_loss: 1.5182 - val_categorical_accuracy: 0.3529\n"
     ]
    },
    {
     "data": {
      "text/plain": [
       "<keras.callbacks.History at 0x7f9863de3e90>"
      ]
     },
     "execution_count": 34,
     "metadata": {},
     "output_type": "execute_result"
    }
   ],
   "source": [
    "model4.fit_generator(train_generator, steps_per_epoch=steps_per_epoch, epochs=20, verbose=1, \n",
    "                    validation_data=val_generator, \n",
    "                    validation_steps=validation_steps, class_weight=None, workers=1, initial_epoch=0)"
   ]
  },
  {
   "cell_type": "markdown",
   "metadata": {
    "id": "6k2iT62FmzHc"
   },
   "source": [
    "Model 5 - Conv 2D + GRU"
   ]
  },
  {
   "cell_type": "code",
   "execution_count": null,
   "metadata": {
    "colab": {
     "base_uri": "https://localhost:8080/"
    },
    "id": "j7JdvGC31Cln",
    "outputId": "0f70501a-ea2d-43b7-eda9-397776fb931a"
   },
   "outputs": [
    {
     "name": "stdout",
     "output_type": "stream",
     "text": [
      "Model: \"sequential_1\"\n",
      "_________________________________________________________________\n",
      " Layer (type)                Output Shape              Param #   \n",
      "=================================================================\n",
      " time_distributed (TimeDistr  (None, 15, 128, 128, 16)  448      \n",
      " ibuted)                                                         \n",
      "                                                                 \n",
      " time_distributed_1 (TimeDis  (None, 15, 64, 64, 16)   0         \n",
      " tributed)                                                       \n",
      "                                                                 \n",
      " time_distributed_2 (TimeDis  (None, 15, 64, 64, 32)   4640      \n",
      " tributed)                                                       \n",
      "                                                                 \n",
      " time_distributed_3 (TimeDis  (None, 15, 32, 32, 32)   0         \n",
      " tributed)                                                       \n",
      "                                                                 \n",
      " time_distributed_4 (TimeDis  (None, 15, 32, 32, 64)   18496     \n",
      " tributed)                                                       \n",
      "                                                                 \n",
      " time_distributed_5 (TimeDis  (None, 15, 16, 16, 64)   0         \n",
      " tributed)                                                       \n",
      "                                                                 \n",
      " time_distributed_6 (TimeDis  (None, 15, 16, 16, 128)  73856     \n",
      " tributed)                                                       \n",
      "                                                                 \n",
      " time_distributed_7 (TimeDis  (None, 15, 8, 8, 128)    0         \n",
      " tributed)                                                       \n",
      "                                                                 \n",
      " time_distributed_8 (TimeDis  (None, 15, 8192)         0         \n",
      " tributed)                                                       \n",
      "                                                                 \n",
      " gru (GRU)                   (None, 128)               3195648   \n",
      "                                                                 \n",
      " dropout (Dropout)           (None, 128)               0         \n",
      "                                                                 \n",
      " dense (Dense)               (None, 5)                 645       \n",
      "                                                                 \n",
      "=================================================================\n",
      "Total params: 3,293,733\n",
      "Trainable params: 3,293,733\n",
      "Non-trainable params: 0\n",
      "_________________________________________________________________\n"
     ]
    }
   ],
   "source": [
    "model5 = Sequential()\n",
    "model5.add(TimeDistributed(Conv2D(16, (3,3), padding='same', activation='relu'),input_shape = (15, 128, 128, 3)))\n",
    "model5.add(TimeDistributed(MaxPooling2D((2,2))))\n",
    "\n",
    "model5.add(TimeDistributed(Conv2D(32, (3,3), padding='same', activation='relu')))\n",
    "model5.add(TimeDistributed(MaxPooling2D((2,2))))\n",
    "\n",
    "model5.add(TimeDistributed(Conv2D(64, (3,3), padding='same', activation='relu')))\n",
    "model5.add(TimeDistributed(MaxPooling2D((2,2))))\n",
    "\n",
    "model5.add(TimeDistributed(Conv2D(128, (3,3), padding='same', activation='relu')))\n",
    "model5.add(TimeDistributed(MaxPooling2D((2,2))))\n",
    "\n",
    "model5.add(TimeDistributed(Flatten()))\n",
    "\n",
    "model5.add(GRU(128, activation='relu', return_sequences=False))\n",
    "model5.add(Dropout(0.25))\n",
    "\n",
    "model5.add(Dense(5, activation='softmax'))\n",
    "model5.summary()"
   ]
  },
  {
   "cell_type": "code",
   "execution_count": null,
   "metadata": {
    "id": "LkeuJj0jsubb"
   },
   "outputs": [],
   "source": [
    "model5.compile(optimizer=optimiser, loss='categorical_crossentropy', metrics=['categorical_accuracy'])"
   ]
  },
  {
   "cell_type": "code",
   "execution_count": null,
   "metadata": {
    "colab": {
     "base_uri": "https://localhost:8080/"
    },
    "id": "Rw3cO1gpsyz6",
    "outputId": "4fe0d282-cd62-4e1c-88e9-370b4a7b2385"
   },
   "outputs": [
    {
     "metadata": {
      "tags": null
     },
     "name": "stderr",
     "output_type": "stream",
     "text": [
      "/usr/local/lib/python3.7/dist-packages/ipykernel_launcher.py:3: UserWarning: `Model.fit_generator` is deprecated and will be removed in a future version. Please use `Model.fit`, which supports generators.\n",
      "  This is separate from the ipykernel package so we can avoid doing imports until\n"
     ]
    },
    {
     "name": "stdout",
     "output_type": "stream",
     "text": [
      "Source path =  /content/drive/MyDrive/IIIT-B_CollabNB/Gesture Recognition Project/data/Project_data/train ; batch size = 64\n",
      "Epoch 1/20\n",
      "11/11 [==============================] - ETA: 0s - loss: 1.6653 - categorical_accuracy: 0.1861  Source path =  /content/drive/MyDrive/IIIT-B_CollabNB/Gesture Recognition Project/data/Project_data/val ; batch size = 64\n",
      "11/11 [==============================] - 2325s 230s/step - loss: 1.6653 - categorical_accuracy: 0.1861 - val_loss: 1.5990 - val_categorical_accuracy: 0.2031\n",
      "Epoch 2/20\n",
      "11/11 [==============================] - 354s 33s/step - loss: 1.6237 - categorical_accuracy: 0.2145 - val_loss: 1.5516 - val_categorical_accuracy: 0.2656\n",
      "Epoch 3/20\n",
      "11/11 [==============================] - 314s 29s/step - loss: 1.5274 - categorical_accuracy: 0.3295 - val_loss: 1.4072 - val_categorical_accuracy: 0.4375\n",
      "Epoch 4/20\n",
      "11/11 [==============================] - 306s 28s/step - loss: 1.3857 - categorical_accuracy: 0.4574 - val_loss: 1.2068 - val_categorical_accuracy: 0.5391\n",
      "Epoch 5/20\n",
      "11/11 [==============================] - 309s 28s/step - loss: 1.2623 - categorical_accuracy: 0.5241 - val_loss: 1.1346 - val_categorical_accuracy: 0.5781\n",
      "Epoch 6/20\n",
      "11/11 [==============================] - 309s 28s/step - loss: 1.1485 - categorical_accuracy: 0.5597 - val_loss: 1.1170 - val_categorical_accuracy: 0.5234\n",
      "Epoch 7/20\n",
      "11/11 [==============================] - 309s 28s/step - loss: 1.1281 - categorical_accuracy: 0.5526 - val_loss: 1.0856 - val_categorical_accuracy: 0.5938\n",
      "Epoch 8/20\n",
      "11/11 [==============================] - 318s 29s/step - loss: 0.9979 - categorical_accuracy: 0.6122 - val_loss: 0.9570 - val_categorical_accuracy: 0.6641\n",
      "Epoch 9/20\n",
      "11/11 [==============================] - 310s 29s/step - loss: 0.9811 - categorical_accuracy: 0.6477 - val_loss: 0.8343 - val_categorical_accuracy: 0.6250\n",
      "Epoch 10/20\n",
      "11/11 [==============================] - 307s 28s/step - loss: 0.8309 - categorical_accuracy: 0.6918 - val_loss: 1.0380 - val_categorical_accuracy: 0.5625\n",
      "Epoch 11/20\n",
      "11/11 [==============================] - 307s 28s/step - loss: 0.8514 - categorical_accuracy: 0.7145 - val_loss: 1.0498 - val_categorical_accuracy: 0.6094\n",
      "Epoch 12/20\n",
      "11/11 [==============================] - 319s 29s/step - loss: 0.7106 - categorical_accuracy: 0.7727 - val_loss: 1.1115 - val_categorical_accuracy: 0.6641\n",
      "Epoch 13/20\n",
      "11/11 [==============================] - 311s 29s/step - loss: 0.8096 - categorical_accuracy: 0.7812 - val_loss: 1.1828 - val_categorical_accuracy: 0.6406\n",
      "Epoch 14/20\n",
      "11/11 [==============================] - 310s 28s/step - loss: 0.7614 - categorical_accuracy: 0.7898 - val_loss: 1.0761 - val_categorical_accuracy: 0.6016\n",
      "Epoch 15/20\n",
      "11/11 [==============================] - 308s 28s/step - loss: 0.7339 - categorical_accuracy: 0.7997 - val_loss: 1.2952 - val_categorical_accuracy: 0.5312\n",
      "Epoch 16/20\n",
      "11/11 [==============================] - 320s 29s/step - loss: 0.6912 - categorical_accuracy: 0.8182 - val_loss: 1.7866 - val_categorical_accuracy: 0.5547\n",
      "Epoch 17/20\n",
      "11/11 [==============================] - 314s 29s/step - loss: 0.6904 - categorical_accuracy: 0.8082 - val_loss: 1.0539 - val_categorical_accuracy: 0.6719\n",
      "Epoch 18/20\n",
      "11/11 [==============================] - 317s 29s/step - loss: 0.8202 - categorical_accuracy: 0.8139 - val_loss: 1.6097 - val_categorical_accuracy: 0.6406\n",
      "Epoch 19/20\n",
      "11/11 [==============================] - 315s 29s/step - loss: 0.6270 - categorical_accuracy: 0.8295 - val_loss: 1.4131 - val_categorical_accuracy: 0.5938\n",
      "Epoch 20/20\n",
      "11/11 [==============================] - 313s 29s/step - loss: 0.9122 - categorical_accuracy: 0.8040 - val_loss: 1.1656 - val_categorical_accuracy: 0.6172\n"
     ]
    },
    {
     "data": {
      "text/plain": [
       "<keras.callbacks.History at 0x7feebb928ed0>"
      ]
     },
     "execution_count": 19,
     "metadata": {},
     "output_type": "execute_result"
    }
   ],
   "source": [
    "model5.fit_generator(train_generator, steps_per_epoch=steps_per_epoch, epochs=20, verbose=1, \n",
    "                    validation_data=val_generator, \n",
    "                    validation_steps=validation_steps, class_weight=None, workers=1, initial_epoch=0)"
   ]
  },
  {
   "cell_type": "code",
   "execution_count": null,
   "metadata": {
    "colab": {
     "base_uri": "https://localhost:8080/"
    },
    "id": "jYfxRscTdzEW",
    "outputId": "2ad448df-9cd9-4eac-cb65-31e28add09e1"
   },
   "outputs": [
    {
     "name": "stdout",
     "output_type": "stream",
     "text": [
      "Model: \"sequential_2\"\n",
      "_________________________________________________________________\n",
      " Layer (type)                Output Shape              Param #   \n",
      "=================================================================\n",
      " time_distributed_9 (TimeDis  (None, 15, 128, 128, 16)  448      \n",
      " tributed)                                                       \n",
      "                                                                 \n",
      " time_distributed_10 (TimeDi  (None, 15, 64, 64, 16)   0         \n",
      " stributed)                                                      \n",
      "                                                                 \n",
      " time_distributed_11 (TimeDi  (None, 15, 64, 64, 32)   4640      \n",
      " stributed)                                                      \n",
      "                                                                 \n",
      " time_distributed_12 (TimeDi  (None, 15, 64, 64, 32)   128       \n",
      " stributed)                                                      \n",
      "                                                                 \n",
      " time_distributed_13 (TimeDi  (None, 15, 32, 32, 32)   0         \n",
      " stributed)                                                      \n",
      "                                                                 \n",
      " time_distributed_14 (TimeDi  (None, 15, 32, 32, 64)   18496     \n",
      " stributed)                                                      \n",
      "                                                                 \n",
      " time_distributed_15 (TimeDi  (None, 15, 32, 32, 64)   256       \n",
      " stributed)                                                      \n",
      "                                                                 \n",
      " time_distributed_16 (TimeDi  (None, 15, 16, 16, 64)   0         \n",
      " stributed)                                                      \n",
      "                                                                 \n",
      " time_distributed_17 (TimeDi  (None, 15, 16, 16, 128)  73856     \n",
      " stributed)                                                      \n",
      "                                                                 \n",
      " time_distributed_18 (TimeDi  (None, 15, 16, 16, 128)  512       \n",
      " stributed)                                                      \n",
      "                                                                 \n",
      " time_distributed_19 (TimeDi  (None, 15, 8, 8, 128)    0         \n",
      " stributed)                                                      \n",
      "                                                                 \n",
      " time_distributed_20 (TimeDi  (None, 15, 8192)         0         \n",
      " stributed)                                                      \n",
      "                                                                 \n",
      " gru_1 (GRU)                 (None, 128)               3195648   \n",
      "                                                                 \n",
      " dropout_1 (Dropout)         (None, 128)               0         \n",
      "                                                                 \n",
      " dense_1 (Dense)             (None, 5)                 645       \n",
      "                                                                 \n",
      "=================================================================\n",
      "Total params: 3,294,629\n",
      "Trainable params: 3,294,181\n",
      "Non-trainable params: 448\n",
      "_________________________________________________________________\n"
     ]
    }
   ],
   "source": [
    "model6 = Sequential()\n",
    "model6.add(TimeDistributed(Conv2D(16, (3,3), padding='same', activation='relu'),input_shape = (15, 128, 128, 3)))\n",
    "model6.add(TimeDistributed(MaxPooling2D((2,2))))\n",
    "\n",
    "model6.add(TimeDistributed(Conv2D(32, (3,3), padding='same', activation='relu')))\n",
    "model6.add(TimeDistributed(BatchNormalization()))\n",
    "model6.add(TimeDistributed(MaxPooling2D((2,2))))\n",
    "\n",
    "model6.add(TimeDistributed(Conv2D(64, (3,3), padding='same', activation='relu')))\n",
    "model6.add(TimeDistributed(BatchNormalization()))\n",
    "model6.add(TimeDistributed(MaxPooling2D((2,2))))\n",
    "\n",
    "model6.add(TimeDistributed(Conv2D(128, (3,3), padding='same', activation='relu')))\n",
    "model6.add(TimeDistributed(BatchNormalization()))\n",
    "model6.add(TimeDistributed(MaxPooling2D((2,2))))\n",
    "\n",
    "model6.add(TimeDistributed(Flatten()))\n",
    "\n",
    "model6.add(GRU(128, activation='relu', return_sequences=False))\n",
    "model6.add(Dropout(0.5))\n",
    "\n",
    "model6.add(Dense(5, activation='softmax'))\n",
    "model6.summary()"
   ]
  },
  {
   "cell_type": "code",
   "execution_count": null,
   "metadata": {
    "id": "8NG3BJ9NeZ2Q"
   },
   "outputs": [],
   "source": [
    "model6.compile(optimizer=optimiser, loss='categorical_crossentropy', metrics=['categorical_accuracy'])"
   ]
  },
  {
   "cell_type": "code",
   "execution_count": null,
   "metadata": {
    "colab": {
     "base_uri": "https://localhost:8080/"
    },
    "id": "_DpbZHaDefES",
    "outputId": "0582ae61-9ae8-4fc2-ca01-f04f6916206f"
   },
   "outputs": [
    {
     "name": "stderr",
     "output_type": "stream",
     "text": [
      "/usr/local/lib/python3.7/dist-packages/ipykernel_launcher.py:3: UserWarning: `Model.fit_generator` is deprecated and will be removed in a future version. Please use `Model.fit`, which supports generators.\n",
      "  This is separate from the ipykernel package so we can avoid doing imports until\n"
     ]
    },
    {
     "name": "stdout",
     "output_type": "stream",
     "text": [
      "Epoch 1/20\n",
      "11/11 [==============================] - 357s 32s/step - loss: 3.0402 - categorical_accuracy: 0.3224 - val_loss: 1.5996 - val_categorical_accuracy: 0.2344\n",
      "Epoch 2/20\n",
      "11/11 [==============================] - 340s 31s/step - loss: 1.5021 - categorical_accuracy: 0.4332 - val_loss: 1.6985 - val_categorical_accuracy: 0.2344\n",
      "Epoch 3/20\n",
      "11/11 [==============================] - 338s 31s/step - loss: 1.3316 - categorical_accuracy: 0.4588 - val_loss: 2.4342 - val_categorical_accuracy: 0.2188\n",
      "Epoch 4/20\n",
      "11/11 [==============================] - 346s 32s/step - loss: 1.2038 - categorical_accuracy: 0.5057 - val_loss: 2.7537 - val_categorical_accuracy: 0.1484\n",
      "Epoch 5/20\n",
      "11/11 [==============================] - 340s 31s/step - loss: 1.1216 - categorical_accuracy: 0.5469 - val_loss: 3.4684 - val_categorical_accuracy: 0.2344\n",
      "Epoch 6/20\n",
      "11/11 [==============================] - 340s 31s/step - loss: 1.0678 - categorical_accuracy: 0.5866 - val_loss: 3.5996 - val_categorical_accuracy: 0.2500\n",
      "Epoch 7/20\n",
      "11/11 [==============================] - 338s 31s/step - loss: 1.0292 - categorical_accuracy: 0.6193 - val_loss: 4.4076 - val_categorical_accuracy: 0.2031\n",
      "Epoch 8/20\n",
      "11/11 [==============================] - 348s 32s/step - loss: 0.9960 - categorical_accuracy: 0.6378 - val_loss: 3.1896 - val_categorical_accuracy: 0.2188\n",
      "Epoch 9/20\n",
      "11/11 [==============================] - 349s 32s/step - loss: 0.9896 - categorical_accuracy: 0.6776 - val_loss: 3.6912 - val_categorical_accuracy: 0.2812\n",
      "Epoch 10/20\n",
      "11/11 [==============================] - 341s 31s/step - loss: 0.9058 - categorical_accuracy: 0.6946 - val_loss: 3.8035 - val_categorical_accuracy: 0.2734\n",
      "Epoch 11/20\n",
      "11/11 [==============================] - 348s 32s/step - loss: 0.9353 - categorical_accuracy: 0.7003 - val_loss: 2.8046 - val_categorical_accuracy: 0.2969\n",
      "Epoch 12/20\n",
      "11/11 [==============================] - 334s 31s/step - loss: 0.8216 - categorical_accuracy: 0.7045 - val_loss: 4.0847 - val_categorical_accuracy: 0.2812\n",
      "Epoch 13/20\n",
      "11/11 [==============================] - 350s 32s/step - loss: 0.8819 - categorical_accuracy: 0.7188 - val_loss: 3.2154 - val_categorical_accuracy: 0.2344\n",
      "Epoch 14/20\n",
      "11/11 [==============================] - 333s 31s/step - loss: 0.7537 - categorical_accuracy: 0.7259 - val_loss: 2.6754 - val_categorical_accuracy: 0.1641\n",
      "Epoch 15/20\n",
      "11/11 [==============================] - 352s 32s/step - loss: 0.7982 - categorical_accuracy: 0.6989 - val_loss: 2.0152 - val_categorical_accuracy: 0.2812\n",
      "Epoch 16/20\n",
      "11/11 [==============================] - 337s 31s/step - loss: 0.7717 - categorical_accuracy: 0.7685 - val_loss: 2.9346 - val_categorical_accuracy: 0.1719\n",
      "Epoch 17/20\n",
      "11/11 [==============================] - 358s 33s/step - loss: 0.7714 - categorical_accuracy: 0.7685 - val_loss: 2.4469 - val_categorical_accuracy: 0.2500\n",
      "Epoch 18/20\n",
      "11/11 [==============================] - 344s 32s/step - loss: 0.7440 - categorical_accuracy: 0.7784 - val_loss: 2.6624 - val_categorical_accuracy: 0.2344\n",
      "Epoch 19/20\n",
      "11/11 [==============================] - 338s 31s/step - loss: 0.6945 - categorical_accuracy: 0.7770 - val_loss: 3.2125 - val_categorical_accuracy: 0.2188\n",
      "Epoch 20/20\n",
      "11/11 [==============================] - 343s 32s/step - loss: 0.9091 - categorical_accuracy: 0.7642 - val_loss: 2.1825 - val_categorical_accuracy: 0.2500\n"
     ]
    },
    {
     "data": {
      "text/plain": [
       "<keras.callbacks.History at 0x7feeaf540450>"
      ]
     },
     "execution_count": 22,
     "metadata": {},
     "output_type": "execute_result"
    }
   ],
   "source": [
    "model6.fit_generator(train_generator, steps_per_epoch=steps_per_epoch, epochs=20, verbose=1, \n",
    "                    validation_data=val_generator, \n",
    "                    validation_steps=validation_steps, class_weight=None, workers=1, initial_epoch=0)"
   ]
  },
  {
   "cell_type": "markdown",
   "metadata": {
    "id": "f720gGI4mfdf"
   },
   "source": [
    "Model 7 - TL VGG16 + RNN"
   ]
  },
  {
   "cell_type": "code",
   "execution_count": null,
   "metadata": {
    "id": "tuuWBcnj8Sih"
   },
   "outputs": [],
   "source": [
    "train_generator = generator(train_path, train_doc, batch_size, 2, 224, 224)\n",
    "val_generator = generator(val_path, val_doc, batch_size, 2, 224, 224)"
   ]
  },
  {
   "cell_type": "code",
   "execution_count": null,
   "metadata": {
    "id": "HRv3wcPu71NE"
   },
   "outputs": [],
   "source": [
    "model7 = Sequential([\n",
    "    TimeDistributed(VGG16(), input_shape=(15,224,224,3))])\n",
    "\n",
    "for layer in model7.layers:\n",
    "    layer.trainable = False\n",
    "\n",
    "model7.add(TimeDistributed(BatchNormalization()))\n",
    "#model7.add(TimeDistributed(MaxPooling2D((2,2))))\n",
    "\n",
    "model7.add(TimeDistributed(Flatten()))\n",
    "\n",
    "model7.add(LSTM(128))\n",
    "model7.add(Dropout(0.25))\n",
    "\n",
    "model7.add(Dense(128,activation='relu'))\n",
    "model7.add(Dropout(0.25))\n",
    "\n",
    "model7.add(Dense(5, activation='softmax'))"
   ]
  },
  {
   "cell_type": "code",
   "execution_count": null,
   "metadata": {
    "id": "oRz6vbA084sn"
   },
   "outputs": [],
   "source": [
    "model7.compile(optimizer=optimiser, loss='categorical_crossentropy', metrics=['categorical_accuracy'])"
   ]
  },
  {
   "cell_type": "code",
   "execution_count": null,
   "metadata": {
    "colab": {
     "base_uri": "https://localhost:8080/"
    },
    "id": "vfMWQ5ELWmGf",
    "outputId": "b2b0290f-a137-4b47-847f-16e2d50288d9"
   },
   "outputs": [
    {
     "name": "stderr",
     "output_type": "stream",
     "text": [
      "/usr/local/lib/python3.7/dist-packages/ipykernel_launcher.py:3: UserWarning: `Model.fit_generator` is deprecated and will be removed in a future version. Please use `Model.fit`, which supports generators.\n",
      "  This is separate from the ipykernel package so we can avoid doing imports until\n"
     ]
    },
    {
     "name": "stdout",
     "output_type": "stream",
     "text": [
      "Source path =  /content/drive/MyDrive/IIIT-B_CollabNB/Gesture Recognition Project/data/Project_data/train ; batch size = 64\n",
      "Epoch 1/20\n"
     ]
    }
   ],
   "source": [
    "model7.fit_generator(train_generator, steps_per_epoch=steps_per_epoch, epochs=20, verbose=1, \n",
    "                    callbacks=callbacks_list, validation_data=val_generator, \n",
    "                    validation_steps=validation_steps, class_weight=None, workers=1, initial_epoch=0)"
   ]
  }
 ],
 "metadata": {
  "accelerator": "GPU",
  "colab": {
   "collapsed_sections": [],
   "name": "Gesture Recognition Project.ipynb",
   "provenance": []
  },
  "kernelspec": {
   "display_name": "Python 3",
   "language": "python",
   "name": "python3"
  },
  "language_info": {
   "codemirror_mode": {
    "name": "ipython",
    "version": 3
   },
   "file_extension": ".py",
   "mimetype": "text/x-python",
   "name": "python",
   "nbconvert_exporter": "python",
   "pygments_lexer": "ipython3",
   "version": "3.8.8"
  }
 },
 "nbformat": 4,
 "nbformat_minor": 1
}
