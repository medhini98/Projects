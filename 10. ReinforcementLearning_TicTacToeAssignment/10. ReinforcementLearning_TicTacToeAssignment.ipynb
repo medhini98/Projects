{
  "nbformat": 4,
  "nbformat_minor": 0,
  "metadata": {
    "colab": {
      "name": "TicTacToe_Agent+(1).ipynb",
      "provenance": [],
      "collapsed_sections": []
    },
    "kernelspec": {
      "display_name": "Python 3",
      "language": "python",
      "name": "python3"
    }
  },
  "cells": [
    {
      "metadata": {
        "id": "rznSDgbvGggG"
      },
      "cell_type": "markdown",
      "source": [
        "## Tic-Tac-Toe Agent\n",
        "​\n",
        "In this notebook, you will learn to build an RL agent (using Q-learning) that learns to play Numerical Tic-Tac-Toe with odd numbers. The environment is playing randomly with the agent, i.e. its strategy is to put an even number randomly in an empty cell. The following is the layout of the notebook:\n",
        "        - Defining epsilon-greedy strategy\n",
        "        - Tracking state-action pairs for convergence\n",
        "        - Define hyperparameters for the Q-learning algorithm\n",
        "        - Generating episode and applying Q-update equation\n",
        "        - Checking convergence in Q-values"
      ]
    },
    {
      "metadata": {
        "id": "8eDb8PxBGggH"
      },
      "cell_type": "markdown",
      "source": [
        "#### Importing libraries\n",
        "Write the code to import Tic-Tac-Toe class from the environment file"
      ]
    },
    {
      "cell_type": "code",
      "source": [
        "from google.colab import drive\n",
        "drive.mount('/content/gdrive/')"
      ],
      "metadata": {
        "colab": {
          "base_uri": "https://localhost:8080/"
        },
        "id": "azqReQ22lKZr",
        "outputId": "6b1e200e-f4ef-4d69-dc51-e24135a89394"
      },
      "execution_count": 1,
      "outputs": [
        {
          "output_type": "stream",
          "name": "stdout",
          "text": [
            "Drive already mounted at /content/gdrive/; to attempt to forcibly remount, call drive.mount(\"/content/gdrive/\", force_remount=True).\n"
          ]
        }
      ]
    },
    {
      "cell_type": "code",
      "source": [
        "import sys\n",
        "import os\n",
        "\n",
        "py_file_location = \"/content/gdrive/MyDrive/Reinforcement Learning/Tic Tac Toe Assignment\"\n",
        "sys.path.append(os.path.abspath(py_file_location))"
      ],
      "metadata": {
        "id": "iHXXP3MhlLHf"
      },
      "execution_count": 2,
      "outputs": []
    },
    {
      "metadata": {
        "id": "6SFNYceFGggJ"
      },
      "cell_type": "code",
      "source": [
        "from TCGame_Env1 import TicTacToe\n",
        "import collections\n",
        "import numpy as np\n",
        "import random\n",
        "import pickle\n",
        "import time\n",
        "from matplotlib import pyplot as plt"
      ],
      "execution_count": 3,
      "outputs": []
    },
    {
      "cell_type": "code",
      "source": [
        "env = TicTacToe()"
      ],
      "metadata": {
        "id": "loHlfBIClqtp"
      },
      "execution_count": 4,
      "outputs": []
    },
    {
      "metadata": {
        "id": "wYLQyopEG8nz"
      },
      "cell_type": "code",
      "source": [
        "# Function to convert state array into a string to store it as keys in the dictionary\n",
        "# states in Q-dictionary will be of form: x-4-5-3-8-x-x-x-x\n",
        "#   x | 4 | 5\n",
        "#   ----------\n",
        "#   3 | 8 | x\n",
        "#   ----------\n",
        "#   x | x | x\n",
        "\n",
        "def Q_state(state):\n",
        "  return ('-'.join(str(e) for e in state)).replace('nan','x')"
      ],
      "execution_count": 5,
      "outputs": []
    },
    {
      "cell_type": "code",
      "source": [
        "Q_state(env.state)"
      ],
      "metadata": {
        "colab": {
          "base_uri": "https://localhost:8080/",
          "height": 35
        },
        "id": "nDFbqhuRC9gS",
        "outputId": "08503f86-f967-4753-f84f-0d11d48128c2"
      },
      "execution_count": 6,
      "outputs": [
        {
          "output_type": "execute_result",
          "data": {
            "text/plain": [
              "'x-x-x-x-x-x-x-x-x'"
            ],
            "application/vnd.google.colaboratory.intrinsic+json": {
              "type": "string"
            }
          },
          "metadata": {},
          "execution_count": 6
        }
      ]
    },
    {
      "metadata": {
        "id": "ZebMOoiVHBBr"
      },
      "cell_type": "code",
      "source": [
        "# Defining a function which will return valid (all possible actions) actions corresponding to a state\n",
        "# Important to avoid errors during deployment.\n",
        "\n",
        "def valid_actions(state):\n",
        "\n",
        "    valid_Actions = []\n",
        "    \n",
        "    valid_Actions = [i for i in env.action_space(state)[0]] ###### -------please call your environment as env\n",
        "    return valid_Actions"
      ],
      "execution_count": 7,
      "outputs": []
    },
    {
      "cell_type": "code",
      "source": [
        "valid_actions(env.state)"
      ],
      "metadata": {
        "colab": {
          "base_uri": "https://localhost:8080/"
        },
        "id": "7vTfh4taDOlx",
        "outputId": "70417d62-919d-479c-a995-e702f768f1d2"
      },
      "execution_count": 8,
      "outputs": [
        {
          "output_type": "execute_result",
          "data": {
            "text/plain": [
              "[(0, 1),\n",
              " (0, 3),\n",
              " (0, 5),\n",
              " (0, 7),\n",
              " (0, 9),\n",
              " (1, 1),\n",
              " (1, 3),\n",
              " (1, 5),\n",
              " (1, 7),\n",
              " (1, 9),\n",
              " (2, 1),\n",
              " (2, 3),\n",
              " (2, 5),\n",
              " (2, 7),\n",
              " (2, 9),\n",
              " (3, 1),\n",
              " (3, 3),\n",
              " (3, 5),\n",
              " (3, 7),\n",
              " (3, 9),\n",
              " (4, 1),\n",
              " (4, 3),\n",
              " (4, 5),\n",
              " (4, 7),\n",
              " (4, 9),\n",
              " (5, 1),\n",
              " (5, 3),\n",
              " (5, 5),\n",
              " (5, 7),\n",
              " (5, 9),\n",
              " (6, 1),\n",
              " (6, 3),\n",
              " (6, 5),\n",
              " (6, 7),\n",
              " (6, 9),\n",
              " (7, 1),\n",
              " (7, 3),\n",
              " (7, 5),\n",
              " (7, 7),\n",
              " (7, 9),\n",
              " (8, 1),\n",
              " (8, 3),\n",
              " (8, 5),\n",
              " (8, 7),\n",
              " (8, 9)]"
            ]
          },
          "metadata": {},
          "execution_count": 8
        }
      ]
    },
    {
      "metadata": {
        "id": "IRciPUkYHDWf"
      },
      "cell_type": "code",
      "source": [
        "# Defining a function which will add new Q-values to the Q-dictionary. \n",
        "def add_to_dict(state):\n",
        "    state1 = Q_state(state)\n",
        "    \n",
        "    valid_act = valid_actions(state)\n",
        "    if state1 not in Q_dict.keys():\n",
        "        for action in valid_act:\n",
        "            Q_dict[state1][action]=0"
      ],
      "execution_count": 9,
      "outputs": []
    },
    {
      "metadata": {
        "id": "fNNi_EfHGggM"
      },
      "cell_type": "markdown",
      "source": [
        "#### Epsilon-greedy strategy - Write your code here\n",
        "\n",
        "(you can build your epsilon-decay function similar to the one given at the end of the notebook)"
      ]
    },
    {
      "metadata": {
        "id": "m0lMfqiJGggN"
      },
      "cell_type": "code",
      "source": [
        "# Defining epsilon-greedy policy. You can choose any function epsilon-decay strategy\n",
        "def epsilon_greedy(state, time):\n",
        "    #epsilon = - 1/(1 + np.exp((-time+7500000)/1700000)) + 1\n",
        "    epsilon = min_epsilon + (max_epsilon - min_epsilon) * np.exp(-decay*time)\n",
        "    z = np.random.random()\n",
        "    if z > epsilon:\n",
        "      state_q = Q_state(state)\n",
        "      action = max(Q_dict[state_q],key=Q_dict[state_q].get)   #Exploitation: this gets the action corresponding to max q-value of current state\n",
        "    else:\n",
        "      agent_action, env_action = env.action_space(state)\n",
        "      action = random.choice([i for i in agent_action])    #Exploration: randomly choosing and action\n",
        "    return action"
      ],
      "execution_count": 10,
      "outputs": []
    },
    {
      "metadata": {
        "id": "H2kyQHOMGggR"
      },
      "cell_type": "markdown",
      "source": [
        "#### Tracking the state-action pairs for checking convergence - write your code here"
      ]
    },
    {
      "metadata": {
        "id": "qcxZ29vdGggS"
      },
      "cell_type": "code",
      "source": [
        "# Initialise Q_dictionary as 'Q_dict' and States_tracked as 'States_track' (for convergence)\n",
        "Q_dict = collections.defaultdict(dict)\n",
        "States_track = collections.defaultdict(dict)"
      ],
      "execution_count": 11,
      "outputs": []
    },
    {
      "metadata": {
        "id": "vs73iv8fHOxV"
      },
      "cell_type": "code",
      "source": [
        "# Initialise states to be tracked\n",
        "def initialise_tracking_states():\n",
        "  sample_q_values = [('x-x-x-x-x-x-x-x-x',(1,5)),('x-x-x-x-x-3-x-x-x',(3,7)),('4-x-6-x-x-x-x-x-x',(4,3)),('x-1-6-x-8-x-3-x-x',(8,5))]    #select any 4 Q-values\n",
        "  for q_values in sample_q_values:\n",
        "    state = q_values[0]\n",
        "    action = q_values[1]\n",
        "    States_track[state][action] = []    #this is an array which will have appended values of that state-action pair for every 3000th episode         "
      ],
      "execution_count": 12,
      "outputs": []
    },
    {
      "metadata": {
        "id": "dAbwJDMVHpwl"
      },
      "cell_type": "code",
      "source": [
        "#Defining a function to save the Q-dictionary as a pickle file\n",
        "\n",
        "def save_obj(obj, name ):\n",
        "    with open('/content/gdrive/MyDrive/Reinforcement Learning/Tic Tac Toe Assignment/'+name + '.pkl', 'wb') as f:\n",
        "        pickle.dump(obj, f, pickle.HIGHEST_PROTOCOL)"
      ],
      "execution_count": 13,
      "outputs": []
    },
    {
      "metadata": {
        "id": "6Pyj7nMVHsBi"
      },
      "cell_type": "code",
      "source": [
        "def save_tracking_states():\n",
        "    for state in States_track.keys():\n",
        "        for action in States_track[state].keys():\n",
        "            if state in Q_dict and action in Q_dict[state]:\n",
        "                States_track[state][action].append(Q_dict[state][action])"
      ],
      "execution_count": 14,
      "outputs": []
    },
    {
      "metadata": {
        "id": "B_8xSluUHvew"
      },
      "cell_type": "code",
      "source": [
        "initialise_tracking_states()"
      ],
      "execution_count": 15,
      "outputs": []
    },
    {
      "metadata": {
        "id": "-iPt--E9GggV"
      },
      "cell_type": "markdown",
      "source": [
        "#### Define hyperparameters  ---write your code here"
      ]
    },
    {
      "metadata": {
        "id": "G0_f5czFGggW"
      },
      "cell_type": "code",
      "source": [
        "EPISODES = 15000000        #No. of episodes\n",
        "LR = 0.01                  #learning rate\n",
        "GAMMA = 0.9                #discount factor\n",
        "decay = 0.000001           #decay rate \n",
        "max_epsilon = 1.0          #For epsilon-greedy function - to calculate epsilon\n",
        "min_epsilon = 0.001        #For epsilon-greedy function - to calculate epsilon\n",
        "threshold = 2000           #every 2000 episodes, the 4 Q-values will be stored/appended (convergence graphs)\n",
        "policy_threshold = 30000   #every 30,000 episodes, the Q-dict will be updated"
      ],
      "execution_count": 16,
      "outputs": []
    },
    {
      "metadata": {
        "id": "Md6twJ7wGggh"
      },
      "cell_type": "markdown",
      "source": [
        "### Q-update loop ---write your code here"
      ]
    },
    {
      "metadata": {
        "id": "ldCgQuDNGggj"
      },
      "cell_type": "code",
      "source": [
        "start_time = time.time()\n",
        "\n",
        "for episode in range(EPISODES):\n",
        "##### Start writing your code from the next line\n",
        "  env = TicTacToe()\n",
        "  initial_state = env.state\n",
        "  curr_state = env.state\n",
        "  terminal = False\n",
        "  add_to_dict(curr_state)\n",
        "  reward = 0\n",
        "  tot_reward = 0\n",
        "\n",
        "  while terminal==False:\n",
        "    curr_state_q = Q_state(curr_state)\n",
        "    curr_action = epsilon_greedy(curr_state,episode)\n",
        "    next_state, reward, terminal = env.step(curr_state, curr_action)\n",
        "    next_state_q = Q_state(next_state)\n",
        "    add_to_dict(next_state)\n",
        "\n",
        "    if terminal==False:\n",
        "      # UPDATE RULE\n",
        "      max_next = max(Q_dict[next_state_q],key=Q_dict[next_state_q].get)   #this gets the action corresponding to max q-value of next state\n",
        "      Q_dict[curr_state_q][curr_action] += LR * ((reward + (GAMMA*(Q_dict[next_state_q][max_next]))) - Q_dict[curr_state_q][curr_action]) \n",
        "    else:\n",
        "      Q_dict[curr_state_q][curr_action] += LR * ((reward - Q_dict[curr_state_q][curr_action]))    #Discount factor is not required if terminal state is reached\n",
        "    curr_state = next_state       #As we move ahead, the next state now becomes the current state \n",
        "\n",
        "    tot_reward += reward\n",
        "\n",
        "  #TRACKING Q-VALUES\n",
        "  if (episode == threshold-1):        #at the 1999th episode\n",
        "    initialise_tracking_states()\n",
        "      \n",
        "  if ((episode+1) % threshold) == 0:   #every 2000th episode\n",
        "    save_tracking_states()\n",
        "    save_obj(States_track,'States_tracked')   \n",
        "    \n",
        "  #SAVING POLICY\n",
        "  if ((episode+1)% policy_threshold ) == 0:  #every 30000th episodes, the Q-dict will be saved\n",
        "    save_obj(Q_dict,'Policy')\n",
        "\n",
        "elapsed_time = time.time() - start_time\n",
        "save_obj(States_track,'States_tracked')   \n",
        "save_obj(Q_dict,'Policy')"
      ],
      "execution_count": 17,
      "outputs": []
    },
    {
      "cell_type": "code",
      "source": [
        "print(\"Hours Taken: \"+str(round(elapsed_time/3600,2)))"
      ],
      "metadata": {
        "colab": {
          "base_uri": "https://localhost:8080/"
        },
        "id": "To89hkBOwqNL",
        "outputId": "af757b1b-fb20-4675-8dfd-cc371563cb23"
      },
      "execution_count": 18,
      "outputs": [
        {
          "output_type": "stream",
          "name": "stdout",
          "text": [
            "Hours Taken: 3.91\n"
          ]
        }
      ]
    },
    {
      "metadata": {
        "id": "t6eMFbb8Ggg2"
      },
      "cell_type": "markdown",
      "source": [
        "#### Check the Q-dictionary"
      ]
    },
    {
      "metadata": {
        "id": "fr9d2fcVGgg4"
      },
      "cell_type": "code",
      "source": [
        "Q_dict"
      ],
      "execution_count": null,
      "outputs": []
    },
    {
      "metadata": {
        "id": "F1tnDJWkGgg9",
        "colab": {
          "base_uri": "https://localhost:8080/"
        },
        "outputId": "6fa31a15-8867-43c8-9869-65985f2c86b4"
      },
      "cell_type": "code",
      "source": [
        "len(Q_dict)"
      ],
      "execution_count": 20,
      "outputs": [
        {
          "output_type": "execute_result",
          "data": {
            "text/plain": [
              "2277193"
            ]
          },
          "metadata": {},
          "execution_count": 20
        }
      ]
    },
    {
      "metadata": {
        "id": "KGPZEQDFGghG"
      },
      "cell_type": "markdown",
      "source": [
        "#### Check the states tracked for Q-values convergence\n",
        "(non-evaluative)"
      ]
    },
    {
      "metadata": {
        "id": "pVQInsg7GghL",
        "colab": {
          "base_uri": "https://localhost:8080/",
          "height": 239
        },
        "outputId": "c18075b7-d21f-4a1d-a871-28579462abd7"
      },
      "cell_type": "code",
      "source": [
        "plt.figure(0, figsize=(16,7))\n",
        "\n",
        "x_axis = np.asarray(range(0, len(States_track['x-x-x-x-x-x-x-x-x'][(1,5)])))\n",
        "plt.subplot(221)\n",
        "plt.plot(x_axis,np.asarray(States_track['x-x-x-x-x-x-x-x-x'][(1,5)]))\n",
        "plt.show"
      ],
      "execution_count": 31,
      "outputs": [
        {
          "output_type": "execute_result",
          "data": {
            "text/plain": [
              "<function matplotlib.pyplot.show>"
            ]
          },
          "metadata": {},
          "execution_count": 31
        },
        {
          "output_type": "display_data",
          "data": {
            "text/plain": [
              "<Figure size 1152x504 with 1 Axes>"
            ],
            "image/png": "[encoded data removed]"
          },
          "metadata": {
            "needs_background": "light"
          }
        }
      ]
    },
    {
      "metadata": {
        "id": "b2Opp8_NITkC"
      },
      "cell_type": "markdown",
      "source": [
        "### Epsilon - decay check"
      ]
    },
    {
      "metadata": {
        "id": "gQ_D_JsuGghR"
      },
      "cell_type": "code",
      "source": [
        "max_epsilon = 1.0\n",
        "min_epsilon = 0.001\n",
        "time = np.arange(0,5000000)\n",
        "epsilon = []\n",
        "for i in range(0,5000000):\n",
        "    epsilon.append(min_epsilon + (max_epsilon - min_epsilon) * np.exp(-0.000001*i))"
      ],
      "execution_count": 24,
      "outputs": []
    },
    {
      "metadata": {
        "id": "J7c2xADQGghV",
        "outputId": "9d359579-1124-41af-d278-27608431aa76",
        "colab": {
          "base_uri": "https://localhost:8080/",
          "height": 278
        }
      },
      "cell_type": "code",
      "source": [
        "plt.plot(time, epsilon)\n",
        "plt.show()"
      ],
      "execution_count": 25,
      "outputs": [
        {
          "output_type": "display_data",
          "data": {
            "text/plain": [
              "<Figure size 432x288 with 1 Axes>"
            ],
            "image/png": "[encoded data removed]"
          },
          "metadata": {
            "needs_background": "light"
          }
        }
      ]
    }
  ]
}