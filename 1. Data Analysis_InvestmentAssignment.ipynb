{
 "cells": [
  {
   "cell_type": "code",
   "execution_count": 1,
   "metadata": {},
   "outputs": [],
   "source": [
    "import pandas as pd\n",
    "import numpy as np\n",
    "from datetime import datetime, timedelta, date\n",
    "import chardet\n",
    "import iso3166\n",
    "import seaborn as sns\n",
    "import matplotlib.pyplot as plt\n",
    "%matplotlib inline"
   ]
  },
  {
   "cell_type": "code",
   "execution_count": 2,
   "metadata": {},
   "outputs": [
    {
     "name": "stdout",
     "output_type": "stream",
     "text": [
      "{'encoding': 'Windows-1252', 'confidence': 0.728900661539289, 'language': ''}\n"
     ]
    }
   ],
   "source": [
    "with open(r\"/Users/nandinisridharr/Documents/IIIT - Assignment 1/companies.csv\", 'rb') as raw:\n",
    "    res = chardet.detect(raw.read(66368))\n",
    "print(res)"
   ]
  },
  {
   "cell_type": "code",
   "execution_count": 3,
   "metadata": {},
   "outputs": [
    {
     "name": "stdout",
     "output_type": "stream",
     "text": [
      "{'encoding': 'Windows-1252', 'confidence': 0.73, 'language': ''}\n"
     ]
    }
   ],
   "source": [
    "with open(r\"/Users/nandinisridharr/Documents/IIIT - Assignment 1/rounds2.csv\", 'rb') as raw:\n",
    "    res = chardet.detect(raw.read(114949))\n",
    "print(res)"
   ]
  },
  {
   "cell_type": "markdown",
   "metadata": {},
   "source": [
    "- Using engine='python' when reading both datasets due to special characters present in the company unique ID columns.\n",
    "- Encoding = 'palmos' is based on Windows-1252 and this seems to decode the data better than ISO-8859-1."
   ]
  },
  {
   "cell_type": "code",
   "execution_count": 4,
   "metadata": {},
   "outputs": [],
   "source": [
    "companies=pd.read_csv(r\"/Users/nandinisridharr/Documents/IIIT - Assignment 1/companies.csv\", encoding='palmos',engine='python')"
   ]
  },
  {
   "cell_type": "code",
   "execution_count": 5,
   "metadata": {},
   "outputs": [],
   "source": [
    "rounds2 = pd.read_csv(r\"/Users/nandinisridharr/Documents/IIIT - Assignment 1/rounds2.csv\",encoding='palmos',engine='python')"
   ]
  },
  {
   "cell_type": "markdown",
   "metadata": {},
   "source": [
    "<h3>Data Exploration</h3>"
   ]
  },
  {
   "cell_type": "code",
   "execution_count": 6,
   "metadata": {},
   "outputs": [
    {
     "name": "stdout",
     "output_type": "stream",
     "text": [
      "<class 'pandas.core.frame.DataFrame'>\n",
      "RangeIndex: 66368 entries, 0 to 66367\n",
      "Data columns (total 10 columns):\n",
      " #   Column         Non-Null Count  Dtype \n",
      "---  ------         --------------  ----- \n",
      " 0   permalink      66368 non-null  object\n",
      " 1   name           66367 non-null  object\n",
      " 2   homepage_url   61310 non-null  object\n",
      " 3   category_list  63220 non-null  object\n",
      " 4   status         66368 non-null  object\n",
      " 5   country_code   59410 non-null  object\n",
      " 6   state_code     57821 non-null  object\n",
      " 7   region         58338 non-null  object\n",
      " 8   city           58340 non-null  object\n",
      " 9   founded_at     51147 non-null  object\n",
      "dtypes: object(10)\n",
      "memory usage: 5.1+ MB\n"
     ]
    }
   ],
   "source": [
    "companies.info()"
   ]
  },
  {
   "cell_type": "code",
   "execution_count": 7,
   "metadata": {},
   "outputs": [
    {
     "data": {
      "text/html": [
       "<div>\n",
       "<style scoped>\n",
       "    .dataframe tbody tr th:only-of-type {\n",
       "        vertical-align: middle;\n",
       "    }\n",
       "\n",
       "    .dataframe tbody tr th {\n",
       "        vertical-align: top;\n",
       "    }\n",
       "\n",
       "    .dataframe thead th {\n",
       "        text-align: right;\n",
       "    }\n",
       "</style>\n",
       "<table border=\"1\" class=\"dataframe\">\n",
       "  <thead>\n",
       "    <tr style=\"text-align: right;\">\n",
       "      <th></th>\n",
       "      <th>permalink</th>\n",
       "      <th>name</th>\n",
       "      <th>homepage_url</th>\n",
       "      <th>category_list</th>\n",
       "      <th>status</th>\n",
       "      <th>country_code</th>\n",
       "      <th>state_code</th>\n",
       "      <th>region</th>\n",
       "      <th>city</th>\n",
       "      <th>founded_at</th>\n",
       "    </tr>\n",
       "  </thead>\n",
       "  <tbody>\n",
       "    <tr>\n",
       "      <th>0</th>\n",
       "      <td>/Organization/-Fame</td>\n",
       "      <td>#fame</td>\n",
       "      <td>http://livfame.com</td>\n",
       "      <td>Media</td>\n",
       "      <td>operating</td>\n",
       "      <td>IND</td>\n",
       "      <td>16</td>\n",
       "      <td>Mumbai</td>\n",
       "      <td>Mumbai</td>\n",
       "      <td>NaN</td>\n",
       "    </tr>\n",
       "    <tr>\n",
       "      <th>1</th>\n",
       "      <td>/Organization/-Qounter</td>\n",
       "      <td>:Qounter</td>\n",
       "      <td>http://www.qounter.com</td>\n",
       "      <td>Application Platforms|Real Time|Social Network...</td>\n",
       "      <td>operating</td>\n",
       "      <td>USA</td>\n",
       "      <td>DE</td>\n",
       "      <td>DE - Other</td>\n",
       "      <td>Delaware City</td>\n",
       "      <td>04-09-2014</td>\n",
       "    </tr>\n",
       "    <tr>\n",
       "      <th>2</th>\n",
       "      <td>/Organization/-The-One-Of-Them-Inc-</td>\n",
       "      <td>(THE) ONE of THEM,Inc.</td>\n",
       "      <td>http://oneofthem.jp</td>\n",
       "      <td>Apps|Games|Mobile</td>\n",
       "      <td>operating</td>\n",
       "      <td>NaN</td>\n",
       "      <td>NaN</td>\n",
       "      <td>NaN</td>\n",
       "      <td>NaN</td>\n",
       "      <td>NaN</td>\n",
       "    </tr>\n",
       "    <tr>\n",
       "      <th>3</th>\n",
       "      <td>/Organization/0-6-Com</td>\n",
       "      <td>0-6.com</td>\n",
       "      <td>http://www.0-6.com</td>\n",
       "      <td>Curated Web</td>\n",
       "      <td>operating</td>\n",
       "      <td>CHN</td>\n",
       "      <td>22</td>\n",
       "      <td>Beijing</td>\n",
       "      <td>Beijing</td>\n",
       "      <td>01-01-2007</td>\n",
       "    </tr>\n",
       "    <tr>\n",
       "      <th>4</th>\n",
       "      <td>/Organization/004-Technologies</td>\n",
       "      <td>004 Technologies</td>\n",
       "      <td>http://004gmbh.de/en/004-interact</td>\n",
       "      <td>Software</td>\n",
       "      <td>operating</td>\n",
       "      <td>USA</td>\n",
       "      <td>IL</td>\n",
       "      <td>Springfield, Illinois</td>\n",
       "      <td>Champaign</td>\n",
       "      <td>01-01-2010</td>\n",
       "    </tr>\n",
       "    <tr>\n",
       "      <th>5</th>\n",
       "      <td>/Organization/01Games-Technology</td>\n",
       "      <td>01Games Technology</td>\n",
       "      <td>http://www.01games.hk/</td>\n",
       "      <td>Games</td>\n",
       "      <td>operating</td>\n",
       "      <td>HKG</td>\n",
       "      <td>NaN</td>\n",
       "      <td>Hong Kong</td>\n",
       "      <td>Hong Kong</td>\n",
       "      <td>NaN</td>\n",
       "    </tr>\n",
       "    <tr>\n",
       "      <th>6</th>\n",
       "      <td>/Organization/0Ndine-Biomedical-Inc</td>\n",
       "      <td>Ondine Biomedical Inc.</td>\n",
       "      <td>http://ondinebio.com</td>\n",
       "      <td>Biotechnology</td>\n",
       "      <td>operating</td>\n",
       "      <td>CAN</td>\n",
       "      <td>BC</td>\n",
       "      <td>Vancouver</td>\n",
       "      <td>Vancouver</td>\n",
       "      <td>01-01-1997</td>\n",
       "    </tr>\n",
       "    <tr>\n",
       "      <th>7</th>\n",
       "      <td>/Organization/0Xdata</td>\n",
       "      <td>H2O.ai</td>\n",
       "      <td>http://h2o.ai/</td>\n",
       "      <td>Analytics</td>\n",
       "      <td>operating</td>\n",
       "      <td>USA</td>\n",
       "      <td>CA</td>\n",
       "      <td>SF Bay Area</td>\n",
       "      <td>Mountain View</td>\n",
       "      <td>01-01-2011</td>\n",
       "    </tr>\n",
       "    <tr>\n",
       "      <th>8</th>\n",
       "      <td>/Organization/1</td>\n",
       "      <td>One Inc.</td>\n",
       "      <td>http://whatis1.com</td>\n",
       "      <td>Mobile</td>\n",
       "      <td>operating</td>\n",
       "      <td>USA</td>\n",
       "      <td>CA</td>\n",
       "      <td>SF Bay Area</td>\n",
       "      <td>San Francisco</td>\n",
       "      <td>01-08-2011</td>\n",
       "    </tr>\n",
       "    <tr>\n",
       "      <th>9</th>\n",
       "      <td>/Organization/1-2-3-Listo</td>\n",
       "      <td>1,2,3 Listo</td>\n",
       "      <td>http://www.123listo.com</td>\n",
       "      <td>E-Commerce</td>\n",
       "      <td>operating</td>\n",
       "      <td>CHL</td>\n",
       "      <td>12</td>\n",
       "      <td>Santiago</td>\n",
       "      <td>Las Condes</td>\n",
       "      <td>01-01-2012</td>\n",
       "    </tr>\n",
       "  </tbody>\n",
       "</table>\n",
       "</div>"
      ],
      "text/plain": [
       "                             permalink                    name  \\\n",
       "0                  /Organization/-Fame                   #fame   \n",
       "1               /Organization/-Qounter                :Qounter   \n",
       "2  /Organization/-The-One-Of-Them-Inc-  (THE) ONE of THEM,Inc.   \n",
       "3                /Organization/0-6-Com                 0-6.com   \n",
       "4       /Organization/004-Technologies        004 Technologies   \n",
       "5     /Organization/01Games-Technology      01Games Technology   \n",
       "6  /Organization/0Ndine-Biomedical-Inc  Ondine Biomedical Inc.   \n",
       "7                 /Organization/0Xdata                  H2O.ai   \n",
       "8                      /Organization/1                One Inc.   \n",
       "9            /Organization/1-2-3-Listo             1,2,3 Listo   \n",
       "\n",
       "                        homepage_url  \\\n",
       "0                 http://livfame.com   \n",
       "1             http://www.qounter.com   \n",
       "2                http://oneofthem.jp   \n",
       "3                 http://www.0-6.com   \n",
       "4  http://004gmbh.de/en/004-interact   \n",
       "5             http://www.01games.hk/   \n",
       "6               http://ondinebio.com   \n",
       "7                     http://h2o.ai/   \n",
       "8                 http://whatis1.com   \n",
       "9            http://www.123listo.com   \n",
       "\n",
       "                                       category_list     status country_code  \\\n",
       "0                                              Media  operating          IND   \n",
       "1  Application Platforms|Real Time|Social Network...  operating          USA   \n",
       "2                                  Apps|Games|Mobile  operating          NaN   \n",
       "3                                        Curated Web  operating          CHN   \n",
       "4                                           Software  operating          USA   \n",
       "5                                              Games  operating          HKG   \n",
       "6                                      Biotechnology  operating          CAN   \n",
       "7                                          Analytics  operating          USA   \n",
       "8                                             Mobile  operating          USA   \n",
       "9                                         E-Commerce  operating          CHL   \n",
       "\n",
       "  state_code                 region           city  founded_at  \n",
       "0         16                 Mumbai         Mumbai         NaN  \n",
       "1         DE             DE - Other  Delaware City  04-09-2014  \n",
       "2        NaN                    NaN            NaN         NaN  \n",
       "3         22                Beijing        Beijing  01-01-2007  \n",
       "4         IL  Springfield, Illinois      Champaign  01-01-2010  \n",
       "5        NaN              Hong Kong      Hong Kong         NaN  \n",
       "6         BC              Vancouver      Vancouver  01-01-1997  \n",
       "7         CA            SF Bay Area  Mountain View  01-01-2011  \n",
       "8         CA            SF Bay Area  San Francisco  01-08-2011  \n",
       "9         12               Santiago     Las Condes  01-01-2012  "
      ]
     },
     "execution_count": 7,
     "metadata": {},
     "output_type": "execute_result"
    }
   ],
   "source": [
    "companies.head(10)"
   ]
  },
  {
   "cell_type": "markdown",
   "metadata": {},
   "source": [
    "Company name seems to be the last string part of permalink. So NULL value in 'name' can be imputed by extracting it from 'permalink'."
   ]
  },
  {
   "cell_type": "code",
   "execution_count": 8,
   "metadata": {},
   "outputs": [],
   "source": [
    "companies.loc[companies['name'].isnull(),['permalink','name']] = 'Tell It In'"
   ]
  },
  {
   "cell_type": "code",
   "execution_count": 9,
   "metadata": {},
   "outputs": [],
   "source": [
    "#Dropping unnecessary columns\n",
    "companies = companies[['permalink', 'name', 'category_list', 'status','country_code']]"
   ]
  },
  {
   "cell_type": "code",
   "execution_count": 10,
   "metadata": {},
   "outputs": [
    {
     "name": "stdout",
     "output_type": "stream",
     "text": [
      "<class 'pandas.core.frame.DataFrame'>\n",
      "RangeIndex: 114949 entries, 0 to 114948\n",
      "Data columns (total 6 columns):\n",
      " #   Column                   Non-Null Count   Dtype  \n",
      "---  ------                   --------------   -----  \n",
      " 0   company_permalink        114949 non-null  object \n",
      " 1   funding_round_permalink  114949 non-null  object \n",
      " 2   funding_round_type       114949 non-null  object \n",
      " 3   funding_round_code       31140 non-null   object \n",
      " 4   funded_at                114949 non-null  object \n",
      " 5   raised_amount_usd        94959 non-null   float64\n",
      "dtypes: float64(1), object(5)\n",
      "memory usage: 5.3+ MB\n"
     ]
    }
   ],
   "source": [
    "rounds2.info()"
   ]
  },
  {
   "cell_type": "code",
   "execution_count": 11,
   "metadata": {},
   "outputs": [
    {
     "data": {
      "text/html": [
       "<div>\n",
       "<style scoped>\n",
       "    .dataframe tbody tr th:only-of-type {\n",
       "        vertical-align: middle;\n",
       "    }\n",
       "\n",
       "    .dataframe tbody tr th {\n",
       "        vertical-align: top;\n",
       "    }\n",
       "\n",
       "    .dataframe thead th {\n",
       "        text-align: right;\n",
       "    }\n",
       "</style>\n",
       "<table border=\"1\" class=\"dataframe\">\n",
       "  <thead>\n",
       "    <tr style=\"text-align: right;\">\n",
       "      <th></th>\n",
       "      <th>company_permalink</th>\n",
       "      <th>funding_round_permalink</th>\n",
       "      <th>funding_round_type</th>\n",
       "      <th>funding_round_code</th>\n",
       "      <th>funded_at</th>\n",
       "      <th>raised_amount_usd</th>\n",
       "    </tr>\n",
       "  </thead>\n",
       "  <tbody>\n",
       "    <tr>\n",
       "      <th>0</th>\n",
       "      <td>/organization/-fame</td>\n",
       "      <td>/funding-round/9a01d05418af9f794eebff7ace91f638</td>\n",
       "      <td>venture</td>\n",
       "      <td>B</td>\n",
       "      <td>05-01-2015</td>\n",
       "      <td>10000000.0</td>\n",
       "    </tr>\n",
       "    <tr>\n",
       "      <th>1</th>\n",
       "      <td>/ORGANIZATION/-QOUNTER</td>\n",
       "      <td>/funding-round/22dacff496eb7acb2b901dec1dfe5633</td>\n",
       "      <td>venture</td>\n",
       "      <td>A</td>\n",
       "      <td>14-10-2014</td>\n",
       "      <td>NaN</td>\n",
       "    </tr>\n",
       "    <tr>\n",
       "      <th>2</th>\n",
       "      <td>/organization/-qounter</td>\n",
       "      <td>/funding-round/b44fbb94153f6cdef13083530bb48030</td>\n",
       "      <td>seed</td>\n",
       "      <td>NaN</td>\n",
       "      <td>01-03-2014</td>\n",
       "      <td>700000.0</td>\n",
       "    </tr>\n",
       "    <tr>\n",
       "      <th>3</th>\n",
       "      <td>/ORGANIZATION/-THE-ONE-OF-THEM-INC-</td>\n",
       "      <td>/funding-round/650b8f704416801069bb178a1418776b</td>\n",
       "      <td>venture</td>\n",
       "      <td>B</td>\n",
       "      <td>30-01-2014</td>\n",
       "      <td>3406878.0</td>\n",
       "    </tr>\n",
       "    <tr>\n",
       "      <th>4</th>\n",
       "      <td>/organization/0-6-com</td>\n",
       "      <td>/funding-round/5727accaeaa57461bd22a9bdd945382d</td>\n",
       "      <td>venture</td>\n",
       "      <td>A</td>\n",
       "      <td>19-03-2008</td>\n",
       "      <td>2000000.0</td>\n",
       "    </tr>\n",
       "    <tr>\n",
       "      <th>5</th>\n",
       "      <td>/ORGANIZATION/004-TECHNOLOGIES</td>\n",
       "      <td>/funding-round/1278dd4e6a37fa4b7d7e06c21b3c1830</td>\n",
       "      <td>venture</td>\n",
       "      <td>NaN</td>\n",
       "      <td>24-07-2014</td>\n",
       "      <td>NaN</td>\n",
       "    </tr>\n",
       "    <tr>\n",
       "      <th>6</th>\n",
       "      <td>/organization/01games-technology</td>\n",
       "      <td>/funding-round/7d53696f2b4f607a2f2a8cbb83d01839</td>\n",
       "      <td>undisclosed</td>\n",
       "      <td>NaN</td>\n",
       "      <td>01-07-2014</td>\n",
       "      <td>41250.0</td>\n",
       "    </tr>\n",
       "    <tr>\n",
       "      <th>7</th>\n",
       "      <td>/ORGANIZATION/0NDINE-BIOMEDICAL-INC</td>\n",
       "      <td>/funding-round/2b9d3ac293d5cdccbecff5c8cb0f327d</td>\n",
       "      <td>seed</td>\n",
       "      <td>NaN</td>\n",
       "      <td>11-09-2009</td>\n",
       "      <td>43360.0</td>\n",
       "    </tr>\n",
       "    <tr>\n",
       "      <th>8</th>\n",
       "      <td>/organization/0ndine-biomedical-inc</td>\n",
       "      <td>/funding-round/954b9499724b946ad8c396a57a5f3b72</td>\n",
       "      <td>venture</td>\n",
       "      <td>NaN</td>\n",
       "      <td>21-12-2009</td>\n",
       "      <td>719491.0</td>\n",
       "    </tr>\n",
       "    <tr>\n",
       "      <th>9</th>\n",
       "      <td>/ORGANIZATION/0XDATA</td>\n",
       "      <td>/funding-round/383a9bd2c04f7038bb543ccef5ba3eae</td>\n",
       "      <td>seed</td>\n",
       "      <td>NaN</td>\n",
       "      <td>22-05-2013</td>\n",
       "      <td>3000000.0</td>\n",
       "    </tr>\n",
       "  </tbody>\n",
       "</table>\n",
       "</div>"
      ],
      "text/plain": [
       "                     company_permalink  \\\n",
       "0                  /organization/-fame   \n",
       "1               /ORGANIZATION/-QOUNTER   \n",
       "2               /organization/-qounter   \n",
       "3  /ORGANIZATION/-THE-ONE-OF-THEM-INC-   \n",
       "4                /organization/0-6-com   \n",
       "5       /ORGANIZATION/004-TECHNOLOGIES   \n",
       "6     /organization/01games-technology   \n",
       "7  /ORGANIZATION/0NDINE-BIOMEDICAL-INC   \n",
       "8  /organization/0ndine-biomedical-inc   \n",
       "9                 /ORGANIZATION/0XDATA   \n",
       "\n",
       "                           funding_round_permalink funding_round_type  \\\n",
       "0  /funding-round/9a01d05418af9f794eebff7ace91f638            venture   \n",
       "1  /funding-round/22dacff496eb7acb2b901dec1dfe5633            venture   \n",
       "2  /funding-round/b44fbb94153f6cdef13083530bb48030               seed   \n",
       "3  /funding-round/650b8f704416801069bb178a1418776b            venture   \n",
       "4  /funding-round/5727accaeaa57461bd22a9bdd945382d            venture   \n",
       "5  /funding-round/1278dd4e6a37fa4b7d7e06c21b3c1830            venture   \n",
       "6  /funding-round/7d53696f2b4f607a2f2a8cbb83d01839        undisclosed   \n",
       "7  /funding-round/2b9d3ac293d5cdccbecff5c8cb0f327d               seed   \n",
       "8  /funding-round/954b9499724b946ad8c396a57a5f3b72            venture   \n",
       "9  /funding-round/383a9bd2c04f7038bb543ccef5ba3eae               seed   \n",
       "\n",
       "  funding_round_code   funded_at  raised_amount_usd  \n",
       "0                  B  05-01-2015         10000000.0  \n",
       "1                  A  14-10-2014                NaN  \n",
       "2                NaN  01-03-2014           700000.0  \n",
       "3                  B  30-01-2014          3406878.0  \n",
       "4                  A  19-03-2008          2000000.0  \n",
       "5                NaN  24-07-2014                NaN  \n",
       "6                NaN  01-07-2014            41250.0  \n",
       "7                NaN  11-09-2009            43360.0  \n",
       "8                NaN  21-12-2009           719491.0  \n",
       "9                NaN  22-05-2013          3000000.0  "
      ]
     },
     "execution_count": 11,
     "metadata": {},
     "output_type": "execute_result"
    }
   ],
   "source": [
    "rounds2.head(10)"
   ]
  },
  {
   "cell_type": "code",
   "execution_count": 12,
   "metadata": {},
   "outputs": [
    {
     "data": {
      "text/plain": [
       "72.90972518247223"
      ]
     },
     "execution_count": 12,
     "metadata": {},
     "output_type": "execute_result"
    }
   ],
   "source": [
    "#Checking NULL % of 'funding_round_code' column:\n",
    "(len(rounds2[rounds2['funding_round_code'].isnull()])/len(rounds2))*100"
   ]
  },
  {
   "cell_type": "code",
   "execution_count": 13,
   "metadata": {},
   "outputs": [],
   "source": [
    "#NULL % is approximately 73% which is too high and therefore this column is being dropped:\n",
    "rounds2=rounds2[['company_permalink', 'funding_round_permalink','funding_round_type','raised_amount_usd']]"
   ]
  },
  {
   "cell_type": "markdown",
   "metadata": {},
   "source": [
    "Converting unique id columns in both datasets to lower case so that they are identical and the merge is done correctly later"
   ]
  },
  {
   "cell_type": "code",
   "execution_count": 14,
   "metadata": {},
   "outputs": [],
   "source": [
    "rounds2['company_permalink'] = rounds2['company_permalink'].str.lower()\n",
    "companies['permalink'] = companies['permalink'].str.lower()"
   ]
  },
  {
   "cell_type": "markdown",
   "metadata": {},
   "source": [
    "<h2>Table 1.1</h2>"
   ]
  },
  {
   "cell_type": "markdown",
   "metadata": {},
   "source": [
    "#### Unique companies present in rounds2"
   ]
  },
  {
   "cell_type": "code",
   "execution_count": 15,
   "metadata": {},
   "outputs": [
    {
     "name": "stdout",
     "output_type": "stream",
     "text": [
      "66368\n"
     ]
    }
   ],
   "source": [
    "print(len(rounds2['company_permalink'].unique()))"
   ]
  },
  {
   "cell_type": "markdown",
   "metadata": {},
   "source": [
    "#### Unique companies present in companies"
   ]
  },
  {
   "cell_type": "code",
   "execution_count": 16,
   "metadata": {},
   "outputs": [
    {
     "name": "stdout",
     "output_type": "stream",
     "text": [
      "66368\n"
     ]
    }
   ],
   "source": [
    "print(len(companies['permalink'].unique()))"
   ]
  },
  {
   "cell_type": "markdown",
   "metadata": {},
   "source": [
    "#### Companies in the rounds2 file which are not  present in companies"
   ]
  },
  {
   "cell_type": "code",
   "execution_count": 17,
   "metadata": {},
   "outputs": [
    {
     "data": {
      "text/plain": [
       "98692    /organization/tell-it-in\n",
       "Name: company_permalink, dtype: object"
      ]
     },
     "execution_count": 17,
     "metadata": {},
     "output_type": "execute_result"
    }
   ],
   "source": [
    "rounds2.loc[~(rounds2['company_permalink'].isin(companies['permalink'])), 'company_permalink']"
   ]
  },
  {
   "cell_type": "code",
   "execution_count": 18,
   "metadata": {},
   "outputs": [],
   "source": [
    "companies.loc[~(companies['permalink'].isin(rounds2['company_permalink'])),'permalink'] = '/organization/tell-it-in'"
   ]
  },
  {
   "cell_type": "markdown",
   "metadata": {},
   "source": [
    "<h2>Table 2.1</h2>"
   ]
  },
  {
   "cell_type": "markdown",
   "metadata": {},
   "source": [
    "There are NULLs in 'raised_amount_usd' column. Based on 'funding_round_type' category, checking percentage of NULLs for categories venture, seed, angel and private equity and imputing the representative value if NULL% is low (lesser than 25%), otherwise removing those rows."
   ]
  },
  {
   "cell_type": "markdown",
   "metadata": {},
   "source": [
    "Percentage of NULLs < 10% so values can be imputed with representative value. To decide whether representative value is mean or median, check with descriptive stats"
   ]
  },
  {
   "cell_type": "markdown",
   "metadata": {},
   "source": [
    "<b>Venture</b>"
   ]
  },
  {
   "cell_type": "code",
   "execution_count": 19,
   "metadata": {},
   "outputs": [
    {
     "data": {
      "text/plain": [
       "9.489314160089378"
      ]
     },
     "execution_count": 19,
     "metadata": {},
     "output_type": "execute_result"
    }
   ],
   "source": [
    "(len(rounds2[(rounds2['funding_round_type']=='venture')&(rounds2['raised_amount_usd'].isnull())])/len(rounds2[rounds2['funding_round_type']=='venture']))*100"
   ]
  },
  {
   "cell_type": "code",
   "execution_count": 20,
   "metadata": {},
   "outputs": [
    {
     "data": {
      "text/plain": [
       "count    50228.000000\n",
       "mean        11.748949\n",
       "std         86.352067\n",
       "min          0.000000\n",
       "25%          1.600902\n",
       "50%          5.000000\n",
       "75%         12.000000\n",
       "max      17600.000000\n",
       "Name: raised_amount_usd, dtype: float64"
      ]
     },
     "execution_count": 20,
     "metadata": {},
     "output_type": "execute_result"
    }
   ],
   "source": [
    "(rounds2.loc[rounds2['funding_round_type']=='venture','raised_amount_usd']/1000000).describe()"
   ]
  },
  {
   "cell_type": "markdown",
   "metadata": {},
   "source": [
    "Median is a better representative value as the data contains outliers as shown by the boxplot."
   ]
  },
  {
   "cell_type": "code",
   "execution_count": 21,
   "metadata": {},
   "outputs": [],
   "source": [
    "rounds2.loc[(rounds2['funding_round_type']=='venture')&(rounds2['raised_amount_usd'].isnull()),'raised_amount_usd']=rounds2.loc[rounds2['funding_round_type']=='venture','raised_amount_usd'].describe()['50%']"
   ]
  },
  {
   "cell_type": "code",
   "execution_count": 22,
   "metadata": {},
   "outputs": [
    {
     "data": {
      "text/plain": [
       "'Median (representative value) for Venture funding type is 5.0 Million USD'"
      ]
     },
     "execution_count": 22,
     "metadata": {},
     "output_type": "execute_result"
    }
   ],
   "source": [
    "'Median (representative value) for Venture funding type is '+str(rounds2.loc[rounds2['funding_round_type']=='venture','raised_amount_usd'].describe()['50%']/1000000)+' Million USD'"
   ]
  },
  {
   "cell_type": "code",
   "execution_count": 23,
   "metadata": {},
   "outputs": [],
   "source": [
    "assert len(rounds2[(rounds2['funding_round_type']=='venture')&(rounds2['raised_amount_usd'].isnull())])==0"
   ]
  },
  {
   "cell_type": "markdown",
   "metadata": {},
   "source": [
    "<b>Angel</b>"
   ]
  },
  {
   "cell_type": "code",
   "execution_count": 24,
   "metadata": {},
   "outputs": [
    {
     "data": {
      "text/plain": [
       "20.24942566458812"
      ]
     },
     "execution_count": 24,
     "metadata": {},
     "output_type": "execute_result"
    }
   ],
   "source": [
    "(len(rounds2[(rounds2['funding_round_type']=='angel')&(rounds2['raised_amount_usd'].isnull())])/len(rounds2[rounds2['funding_round_type']=='angel']))*100"
   ]
  },
  {
   "cell_type": "code",
   "execution_count": 25,
   "metadata": {},
   "outputs": [
    {
     "data": {
      "text/plain": [
       "count    4860.000000\n",
       "mean        0.958694\n",
       "std         7.404397\n",
       "min         0.000000\n",
       "25%         0.150000\n",
       "50%         0.400000\n",
       "75%         1.000000\n",
       "max       494.511992\n",
       "Name: raised_amount_usd, dtype: float64"
      ]
     },
     "execution_count": 25,
     "metadata": {},
     "output_type": "execute_result"
    }
   ],
   "source": [
    "(rounds2.loc[rounds2['funding_round_type']=='angel','raised_amount_usd']/1000000).describe()"
   ]
  },
  {
   "cell_type": "code",
   "execution_count": 26,
   "metadata": {},
   "outputs": [],
   "source": [
    "rounds2.loc[(rounds2['funding_round_type']=='angel')&(rounds2['raised_amount_usd'].isnull()),'raised_amount_usd']=rounds2.loc[rounds2['funding_round_type']=='angel','raised_amount_usd'].describe()['50%']"
   ]
  },
  {
   "cell_type": "code",
   "execution_count": 27,
   "metadata": {},
   "outputs": [],
   "source": [
    "assert len(rounds2[(rounds2['funding_round_type']=='angel')&(rounds2['raised_amount_usd'].isnull())])==0"
   ]
  },
  {
   "cell_type": "code",
   "execution_count": 28,
   "metadata": {},
   "outputs": [
    {
     "data": {
      "text/plain": [
       "'Median (representative value) for Angel funding type is 0.4 Million USD'"
      ]
     },
     "execution_count": 28,
     "metadata": {},
     "output_type": "execute_result"
    }
   ],
   "source": [
    "'Median (representative value) for Angel funding type is '+str(rounds2.loc[rounds2['funding_round_type']=='angel','raised_amount_usd'].describe()['50%']/1000000)+' Million USD'"
   ]
  },
  {
   "cell_type": "markdown",
   "metadata": {},
   "source": [
    "<b>Seed</b>"
   ]
  },
  {
   "cell_type": "code",
   "execution_count": 29,
   "metadata": {},
   "outputs": [
    {
     "data": {
      "text/plain": [
       "22.67396147293933"
      ]
     },
     "execution_count": 29,
     "metadata": {},
     "output_type": "execute_result"
    }
   ],
   "source": [
    "(len(rounds2[(rounds2['funding_round_type']=='seed')&(rounds2['raised_amount_usd'].isnull())])/len(rounds2[rounds2['funding_round_type']=='seed']))*100"
   ]
  },
  {
   "cell_type": "code",
   "execution_count": 30,
   "metadata": {},
   "outputs": [
    {
     "data": {
      "text/plain": [
       "count    23603.000000\n",
       "mean         0.719818\n",
       "std          2.221733\n",
       "min          0.000000\n",
       "25%          0.055000\n",
       "50%          0.275000\n",
       "75%          1.000000\n",
       "max        200.000000\n",
       "Name: raised_amount_usd, dtype: float64"
      ]
     },
     "execution_count": 30,
     "metadata": {},
     "output_type": "execute_result"
    }
   ],
   "source": [
    "(rounds2.loc[rounds2['funding_round_type']=='seed','raised_amount_usd']/1000000).describe()"
   ]
  },
  {
   "cell_type": "code",
   "execution_count": 31,
   "metadata": {},
   "outputs": [],
   "source": [
    "rounds2.loc[(rounds2['funding_round_type']=='seed')&(rounds2['raised_amount_usd'].isnull()),'raised_amount_usd']=rounds2.loc[rounds2['funding_round_type']=='seed','raised_amount_usd'].describe()['50%']"
   ]
  },
  {
   "cell_type": "code",
   "execution_count": 32,
   "metadata": {},
   "outputs": [],
   "source": [
    "assert len(rounds2[(rounds2['funding_round_type']=='seed')&(rounds2['raised_amount_usd'].isnull())])==0"
   ]
  },
  {
   "cell_type": "code",
   "execution_count": 33,
   "metadata": {},
   "outputs": [
    {
     "data": {
      "text/plain": [
       "'Median (representative value) for Seed funding type is 0.275 Million USD'"
      ]
     },
     "execution_count": 33,
     "metadata": {},
     "output_type": "execute_result"
    }
   ],
   "source": [
    "'Median (representative value) for Seed funding type is '+str(rounds2.loc[rounds2['funding_round_type']=='seed','raised_amount_usd'].describe()['50%']/1000000)+' Million USD'"
   ]
  },
  {
   "cell_type": "markdown",
   "metadata": {},
   "source": [
    "<b>Private Equity</b>"
   ]
  },
  {
   "cell_type": "code",
   "execution_count": 34,
   "metadata": {},
   "outputs": [
    {
     "data": {
      "text/plain": [
       "15.273522975929978"
      ]
     },
     "execution_count": 34,
     "metadata": {},
     "output_type": "execute_result"
    }
   ],
   "source": [
    "(len(rounds2[(rounds2['funding_round_type']=='private_equity')&(rounds2['raised_amount_usd'].isnull())])/len(rounds2[rounds2['funding_round_type']=='private_equity']))*100"
   ]
  },
  {
   "cell_type": "code",
   "execution_count": 35,
   "metadata": {},
   "outputs": [
    {
     "data": {
      "text/plain": [
       "count    1936.000000\n",
       "mean       73.308593\n",
       "std       198.113458\n",
       "min         0.000000\n",
       "25%         5.000000\n",
       "50%        20.000000\n",
       "75%        75.000000\n",
       "max      4745.460219\n",
       "Name: raised_amount_usd, dtype: float64"
      ]
     },
     "execution_count": 35,
     "metadata": {},
     "output_type": "execute_result"
    }
   ],
   "source": [
    "(rounds2.loc[rounds2['funding_round_type']=='private_equity','raised_amount_usd']/1000000).describe()"
   ]
  },
  {
   "cell_type": "code",
   "execution_count": 36,
   "metadata": {},
   "outputs": [],
   "source": [
    "rounds2.loc[(rounds2['funding_round_type']=='private_equity')&(rounds2['raised_amount_usd'].isnull()),'raised_amount_usd']=rounds2.loc[rounds2['funding_round_type']=='private_equity','raised_amount_usd'].describe()['50%']"
   ]
  },
  {
   "cell_type": "code",
   "execution_count": 37,
   "metadata": {},
   "outputs": [],
   "source": [
    "assert len(rounds2[(rounds2['funding_round_type']=='private_equity')&(rounds2['raised_amount_usd'].isnull())])==0"
   ]
  },
  {
   "cell_type": "code",
   "execution_count": 38,
   "metadata": {},
   "outputs": [
    {
     "data": {
      "text/plain": [
       "'Median (representative value) for Private Equity funding type is 20.0 Million USD'"
      ]
     },
     "execution_count": 38,
     "metadata": {},
     "output_type": "execute_result"
    }
   ],
   "source": [
    "'Median (representative value) for Private Equity funding type is '+str(rounds2.loc[rounds2['funding_round_type']=='private_equity','raised_amount_usd'].describe()['50%']/1000000)+' Million USD'"
   ]
  },
  {
   "cell_type": "markdown",
   "metadata": {},
   "source": [
    "<b>Note: Handling Outliers</b> <br>\n",
    "As shown above, there are outliers in the 'raised_amount_usd' column leading to median being the representative value. Since Sparks Fund wants to invest where others are investing, their decision is based on the amount of confidence others have. Thus, larger investments, i.e., outlier values, show higher confidence and therefore outliers are not being removed. "
   ]
  },
  {
   "cell_type": "markdown",
   "metadata": {},
   "source": [
    "<h3>Suggested Funding Type:</h3> <br>\n",
    "The median value of Angel and Seed funding types are below 1 Million USD and therefore this investment type is too small for Sparks Fund The median value of Private equity type is 20 Million which is too large of an investment. So <b>venture</b> type with a median value of 5 Million falls within the desired investment amount range of 5-15 Million. 50-82% of companies invest 5-15 Million (as shown by the calculation)"
   ]
  },
  {
   "cell_type": "code",
   "execution_count": 39,
   "metadata": {},
   "outputs": [
    {
     "data": {
      "text/plain": [
       "15.0"
      ]
     },
     "execution_count": 39,
     "metadata": {},
     "output_type": "execute_result"
    }
   ],
   "source": [
    "np.quantile((rounds2.loc[rounds2['funding_round_type']=='venture','raised_amount_usd']/1000000),0.82)"
   ]
  },
  {
   "cell_type": "markdown",
   "metadata": {},
   "source": [
    "<h2>Table 3.1</h2>"
   ]
  },
  {
   "cell_type": "markdown",
   "metadata": {},
   "source": [
    "Using iso3166 library, getting country names based on country codes. This is done to easily identify English soeaking countries."
   ]
  },
  {
   "cell_type": "code",
   "execution_count": 40,
   "metadata": {},
   "outputs": [],
   "source": [
    "def get_country_name(x):\n",
    "    try:\n",
    "        return iso3166.countries_by_alpha3[x][0]\n",
    "    except KeyError:\n",
    "        return np.nan"
   ]
  },
  {
   "cell_type": "code",
   "execution_count": 41,
   "metadata": {},
   "outputs": [],
   "source": [
    "companies['Country Name'] = companies['country_code'].apply(get_country_name)"
   ]
  },
  {
   "cell_type": "markdown",
   "metadata": {},
   "source": [
    "Created an excel sheet containing a consolidated table of all tables in the suggested wikipedia site: https://en.wikipedia.org/wiki/List_of_countries_and_territories_where_English_is_an_official_language"
   ]
  },
  {
   "cell_type": "code",
   "execution_count": 42,
   "metadata": {},
   "outputs": [],
   "source": [
    "lang = pd.read_excel(r\"/Users/nandinisridharr/Documents/IIIT - Assignment 1/Language.xlsx\")"
   ]
  },
  {
   "cell_type": "code",
   "execution_count": 43,
   "metadata": {},
   "outputs": [],
   "source": [
    "companies['English_speaking']=np.where((companies['Country Name'].isin(lang['Country']))|(companies['country_code'].isin(lang['Alpha-3 code'])),'Yes','No')"
   ]
  },
  {
   "cell_type": "markdown",
   "metadata": {},
   "source": [
    "#### Merging both datasets"
   ]
  },
  {
   "cell_type": "markdown",
   "metadata": {},
   "source": [
    "- Merging on permalink column as it is the unique id for companies\n",
    "- Renaming column name permalink to company_permalink in companies dataset before merging"
   ]
  },
  {
   "cell_type": "code",
   "execution_count": 44,
   "metadata": {},
   "outputs": [],
   "source": [
    "companies.rename(columns = {'permalink':'company_permalink'},inplace=True)"
   ]
  },
  {
   "cell_type": "code",
   "execution_count": 45,
   "metadata": {},
   "outputs": [
    {
     "data": {
      "text/plain": [
       "0"
      ]
     },
     "execution_count": 45,
     "metadata": {},
     "output_type": "execute_result"
    }
   ],
   "source": [
    "len(companies[companies.duplicated('company_permalink',keep=False)])"
   ]
  },
  {
   "cell_type": "markdown",
   "metadata": {},
   "source": [
    "- There are no duplicates in the 'company_permalink' column in companies data. Therefore we need not worry about a cross-join being creeated and can directly merge this with rounds2 data. The expected length of the merged dataset is the same as the length of rounds2 data."
   ]
  },
  {
   "cell_type": "code",
   "execution_count": 46,
   "metadata": {},
   "outputs": [],
   "source": [
    "master_frame = pd.merge(rounds2, companies, on = 'company_permalink', how='left')"
   ]
  },
  {
   "cell_type": "code",
   "execution_count": 47,
   "metadata": {},
   "outputs": [],
   "source": [
    "assert len(rounds2)==len(master_frame)"
   ]
  },
  {
   "cell_type": "markdown",
   "metadata": {},
   "source": [
    "Keeping only rows where funding type is venture and country is English speaking, based on constraints applied by Sparks Fund."
   ]
  },
  {
   "cell_type": "code",
   "execution_count": 48,
   "metadata": {},
   "outputs": [],
   "source": [
    "master_frame = master_frame[(master_frame['funding_round_type']=='venture')&(master_frame['English_speaking']=='Yes')].reset_index(drop=True)"
   ]
  },
  {
   "cell_type": "markdown",
   "metadata": {},
   "source": [
    "There are some companies with 'rraised_amount_usd' = 0, indicating an investment of 0 USD which is no investment at all. Therefore these will be removed at this point to calculate total number of investments."
   ]
  },
  {
   "cell_type": "code",
   "execution_count": 49,
   "metadata": {},
   "outputs": [],
   "source": [
    "master_frame=master_frame[master_frame['raised_amount_usd']!=0].reset_index(drop=True)"
   ]
  },
  {
   "cell_type": "markdown",
   "metadata": {},
   "source": [
    "Creating a pivoted dataframe based on Country to check which country has maximum investment. Here, checking the total sum of investments rather than number as sum would be a better value to check top country."
   ]
  },
  {
   "cell_type": "code",
   "execution_count": 50,
   "metadata": {
    "scrolled": false
   },
   "outputs": [],
   "source": [
    "piv=pd.pivot_table(data=master_frame,index='Country Name',values='raised_amount_usd',aggfunc='sum')"
   ]
  },
  {
   "cell_type": "code",
   "execution_count": 51,
   "metadata": {},
   "outputs": [
    {
     "data": {
      "text/html": [
       "<div>\n",
       "<style scoped>\n",
       "    .dataframe tbody tr th:only-of-type {\n",
       "        vertical-align: middle;\n",
       "    }\n",
       "\n",
       "    .dataframe tbody tr th {\n",
       "        vertical-align: top;\n",
       "    }\n",
       "\n",
       "    .dataframe thead th {\n",
       "        text-align: right;\n",
       "    }\n",
       "</style>\n",
       "<table border=\"1\" class=\"dataframe\">\n",
       "  <thead>\n",
       "    <tr style=\"text-align: right;\">\n",
       "      <th></th>\n",
       "      <th>Country Name</th>\n",
       "      <th>raised_amount_usd</th>\n",
       "    </tr>\n",
       "  </thead>\n",
       "  <tbody>\n",
       "    <tr>\n",
       "      <th>0</th>\n",
       "      <td>United States of America</td>\n",
       "      <td>4.336758e+11</td>\n",
       "    </tr>\n",
       "    <tr>\n",
       "      <th>1</th>\n",
       "      <td>United Kingdom of Great Britain and Northern I...</td>\n",
       "      <td>2.148563e+10</td>\n",
       "    </tr>\n",
       "    <tr>\n",
       "      <th>2</th>\n",
       "      <td>India</td>\n",
       "      <td>1.523186e+10</td>\n",
       "    </tr>\n",
       "    <tr>\n",
       "      <th>3</th>\n",
       "      <td>Canada</td>\n",
       "      <td>1.003333e+10</td>\n",
       "    </tr>\n",
       "    <tr>\n",
       "      <th>4</th>\n",
       "      <td>Israel</td>\n",
       "      <td>7.477515e+09</td>\n",
       "    </tr>\n",
       "    <tr>\n",
       "      <th>5</th>\n",
       "      <td>Singapore</td>\n",
       "      <td>3.128918e+09</td>\n",
       "    </tr>\n",
       "    <tr>\n",
       "      <th>6</th>\n",
       "      <td>Ireland</td>\n",
       "      <td>1.931131e+09</td>\n",
       "    </tr>\n",
       "    <tr>\n",
       "      <th>7</th>\n",
       "      <td>Australia</td>\n",
       "      <td>1.412935e+09</td>\n",
       "    </tr>\n",
       "    <tr>\n",
       "      <th>8</th>\n",
       "      <td>Malaysia</td>\n",
       "      <td>9.130588e+08</td>\n",
       "    </tr>\n",
       "    <tr>\n",
       "      <th>9</th>\n",
       "      <td>Hong Kong</td>\n",
       "      <td>8.762670e+08</td>\n",
       "    </tr>\n",
       "    <tr>\n",
       "      <th>10</th>\n",
       "      <td>New Zealand</td>\n",
       "      <td>4.583164e+08</td>\n",
       "    </tr>\n",
       "    <tr>\n",
       "      <th>11</th>\n",
       "      <td>United Arab Emirates</td>\n",
       "      <td>3.826175e+08</td>\n",
       "    </tr>\n",
       "    <tr>\n",
       "      <th>12</th>\n",
       "      <td>South Africa</td>\n",
       "      <td>3.040629e+08</td>\n",
       "    </tr>\n",
       "    <tr>\n",
       "      <th>13</th>\n",
       "      <td>Bermuda</td>\n",
       "      <td>2.938000e+08</td>\n",
       "    </tr>\n",
       "    <tr>\n",
       "      <th>14</th>\n",
       "      <td>Nigeria</td>\n",
       "      <td>2.554400e+08</td>\n",
       "    </tr>\n",
       "    <tr>\n",
       "      <th>15</th>\n",
       "      <td>Philippines</td>\n",
       "      <td>1.494997e+08</td>\n",
       "    </tr>\n",
       "    <tr>\n",
       "      <th>16</th>\n",
       "      <td>Pakistan</td>\n",
       "      <td>9.312500e+07</td>\n",
       "    </tr>\n",
       "    <tr>\n",
       "      <th>17</th>\n",
       "      <td>Cyprus</td>\n",
       "      <td>8.600000e+07</td>\n",
       "    </tr>\n",
       "    <tr>\n",
       "      <th>18</th>\n",
       "      <td>Cayman Islands</td>\n",
       "      <td>7.958786e+07</td>\n",
       "    </tr>\n",
       "    <tr>\n",
       "      <th>19</th>\n",
       "      <td>Kenya</td>\n",
       "      <td>6.894000e+07</td>\n",
       "    </tr>\n",
       "    <tr>\n",
       "      <th>20</th>\n",
       "      <td>Jordan</td>\n",
       "      <td>4.385000e+07</td>\n",
       "    </tr>\n",
       "    <tr>\n",
       "      <th>21</th>\n",
       "      <td>Ghana</td>\n",
       "      <td>4.120000e+07</td>\n",
       "    </tr>\n",
       "    <tr>\n",
       "      <th>22</th>\n",
       "      <td>Gibraltar</td>\n",
       "      <td>3.292991e+07</td>\n",
       "    </tr>\n",
       "    <tr>\n",
       "      <th>23</th>\n",
       "      <td>Malta</td>\n",
       "      <td>1.772830e+07</td>\n",
       "    </tr>\n",
       "    <tr>\n",
       "      <th>24</th>\n",
       "      <td>Saint Kitts and Nevis</td>\n",
       "      <td>1.500000e+07</td>\n",
       "    </tr>\n",
       "    <tr>\n",
       "      <th>25</th>\n",
       "      <td>Kuwait</td>\n",
       "      <td>1.400000e+07</td>\n",
       "    </tr>\n",
       "    <tr>\n",
       "      <th>26</th>\n",
       "      <td>Trinidad and Tobago</td>\n",
       "      <td>1.350000e+07</td>\n",
       "    </tr>\n",
       "    <tr>\n",
       "      <th>27</th>\n",
       "      <td>Bangladesh</td>\n",
       "      <td>1.200200e+07</td>\n",
       "    </tr>\n",
       "    <tr>\n",
       "      <th>28</th>\n",
       "      <td>Rwanda</td>\n",
       "      <td>1.000000e+07</td>\n",
       "    </tr>\n",
       "    <tr>\n",
       "      <th>29</th>\n",
       "      <td>Mauritius</td>\n",
       "      <td>6.500000e+06</td>\n",
       "    </tr>\n",
       "    <tr>\n",
       "      <th>30</th>\n",
       "      <td>Cameroon</td>\n",
       "      <td>5.359561e+06</td>\n",
       "    </tr>\n",
       "    <tr>\n",
       "      <th>31</th>\n",
       "      <td>Bahrain</td>\n",
       "      <td>5.000000e+06</td>\n",
       "    </tr>\n",
       "    <tr>\n",
       "      <th>32</th>\n",
       "      <td>Guernsey</td>\n",
       "      <td>3.960000e+06</td>\n",
       "    </tr>\n",
       "    <tr>\n",
       "      <th>33</th>\n",
       "      <td>Uganda</td>\n",
       "      <td>2.500000e+06</td>\n",
       "    </tr>\n",
       "    <tr>\n",
       "      <th>34</th>\n",
       "      <td>Botswana</td>\n",
       "      <td>2.250000e+06</td>\n",
       "    </tr>\n",
       "    <tr>\n",
       "      <th>35</th>\n",
       "      <td>Puerto Rico</td>\n",
       "      <td>1.441901e+06</td>\n",
       "    </tr>\n",
       "    <tr>\n",
       "      <th>36</th>\n",
       "      <td>Myanmar</td>\n",
       "      <td>2.000000e+05</td>\n",
       "    </tr>\n",
       "  </tbody>\n",
       "</table>\n",
       "</div>"
      ],
      "text/plain": [
       "                                         Country Name  raised_amount_usd\n",
       "0                            United States of America       4.336758e+11\n",
       "1   United Kingdom of Great Britain and Northern I...       2.148563e+10\n",
       "2                                               India       1.523186e+10\n",
       "3                                              Canada       1.003333e+10\n",
       "4                                              Israel       7.477515e+09\n",
       "5                                           Singapore       3.128918e+09\n",
       "6                                             Ireland       1.931131e+09\n",
       "7                                           Australia       1.412935e+09\n",
       "8                                            Malaysia       9.130588e+08\n",
       "9                                           Hong Kong       8.762670e+08\n",
       "10                                        New Zealand       4.583164e+08\n",
       "11                               United Arab Emirates       3.826175e+08\n",
       "12                                       South Africa       3.040629e+08\n",
       "13                                            Bermuda       2.938000e+08\n",
       "14                                            Nigeria       2.554400e+08\n",
       "15                                        Philippines       1.494997e+08\n",
       "16                                           Pakistan       9.312500e+07\n",
       "17                                             Cyprus       8.600000e+07\n",
       "18                                     Cayman Islands       7.958786e+07\n",
       "19                                              Kenya       6.894000e+07\n",
       "20                                             Jordan       4.385000e+07\n",
       "21                                              Ghana       4.120000e+07\n",
       "22                                          Gibraltar       3.292991e+07\n",
       "23                                              Malta       1.772830e+07\n",
       "24                              Saint Kitts and Nevis       1.500000e+07\n",
       "25                                             Kuwait       1.400000e+07\n",
       "26                                Trinidad and Tobago       1.350000e+07\n",
       "27                                         Bangladesh       1.200200e+07\n",
       "28                                             Rwanda       1.000000e+07\n",
       "29                                          Mauritius       6.500000e+06\n",
       "30                                           Cameroon       5.359561e+06\n",
       "31                                            Bahrain       5.000000e+06\n",
       "32                                           Guernsey       3.960000e+06\n",
       "33                                             Uganda       2.500000e+06\n",
       "34                                           Botswana       2.250000e+06\n",
       "35                                        Puerto Rico       1.441901e+06\n",
       "36                                            Myanmar       2.000000e+05"
      ]
     },
     "execution_count": 51,
     "metadata": {},
     "output_type": "execute_result"
    }
   ],
   "source": [
    "piv=piv.sort_values(by='raised_amount_usd',ascending=False)\n",
    "piv=piv.reset_index()\n",
    "piv"
   ]
  },
  {
   "cell_type": "code",
   "execution_count": 52,
   "metadata": {},
   "outputs": [],
   "source": [
    "top9 = piv.loc[:8]"
   ]
  },
  {
   "cell_type": "code",
   "execution_count": 53,
   "metadata": {},
   "outputs": [
    {
     "data": {
      "text/html": [
       "<div>\n",
       "<style scoped>\n",
       "    .dataframe tbody tr th:only-of-type {\n",
       "        vertical-align: middle;\n",
       "    }\n",
       "\n",
       "    .dataframe tbody tr th {\n",
       "        vertical-align: top;\n",
       "    }\n",
       "\n",
       "    .dataframe thead th {\n",
       "        text-align: right;\n",
       "    }\n",
       "</style>\n",
       "<table border=\"1\" class=\"dataframe\">\n",
       "  <thead>\n",
       "    <tr style=\"text-align: right;\">\n",
       "      <th></th>\n",
       "      <th>Country Name</th>\n",
       "      <th>raised_amount_usd</th>\n",
       "    </tr>\n",
       "  </thead>\n",
       "  <tbody>\n",
       "    <tr>\n",
       "      <th>0</th>\n",
       "      <td>United States of America</td>\n",
       "      <td>4.336758e+11</td>\n",
       "    </tr>\n",
       "    <tr>\n",
       "      <th>1</th>\n",
       "      <td>United Kingdom of Great Britain and Northern I...</td>\n",
       "      <td>2.148563e+10</td>\n",
       "    </tr>\n",
       "    <tr>\n",
       "      <th>2</th>\n",
       "      <td>India</td>\n",
       "      <td>1.523186e+10</td>\n",
       "    </tr>\n",
       "  </tbody>\n",
       "</table>\n",
       "</div>"
      ],
      "text/plain": [
       "                                        Country Name  raised_amount_usd\n",
       "0                           United States of America       4.336758e+11\n",
       "1  United Kingdom of Great Britain and Northern I...       2.148563e+10\n",
       "2                                              India       1.523186e+10"
      ]
     },
     "execution_count": 53,
     "metadata": {},
     "output_type": "execute_result"
    }
   ],
   "source": [
    "top9[:3]"
   ]
  },
  {
   "cell_type": "markdown",
   "metadata": {},
   "source": [
    "<h2>Table-5.1</h2>"
   ]
  },
  {
   "cell_type": "code",
   "execution_count": 54,
   "metadata": {},
   "outputs": [],
   "source": [
    "mapping = pd.read_csv(r\"/Users/nandinisridharr/Documents/IIIT - Assignment 1/mapping.csv\")"
   ]
  },
  {
   "cell_type": "code",
   "execution_count": 55,
   "metadata": {},
   "outputs": [
    {
     "name": "stdout",
     "output_type": "stream",
     "text": [
      "<class 'pandas.core.frame.DataFrame'>\n",
      "RangeIndex: 688 entries, 0 to 687\n",
      "Data columns (total 10 columns):\n",
      " #   Column                                   Non-Null Count  Dtype \n",
      "---  ------                                   --------------  ----- \n",
      " 0   category_list                            687 non-null    object\n",
      " 1   Automotive & Sports                      688 non-null    int64 \n",
      " 2   Blanks                                   688 non-null    int64 \n",
      " 3   Cleantech / Semiconductors               688 non-null    int64 \n",
      " 4   Entertainment                            688 non-null    int64 \n",
      " 5   Health                                   688 non-null    int64 \n",
      " 6   Manufacturing                            688 non-null    int64 \n",
      " 7   News, Search and Messaging               688 non-null    int64 \n",
      " 8   Others                                   688 non-null    int64 \n",
      " 9   Social, Finance, Analytics, Advertising  688 non-null    int64 \n",
      "dtypes: int64(9), object(1)\n",
      "memory usage: 53.9+ KB\n"
     ]
    }
   ],
   "source": [
    "mapping.info()"
   ]
  },
  {
   "cell_type": "code",
   "execution_count": 56,
   "metadata": {},
   "outputs": [
    {
     "data": {
      "text/html": [
       "<div>\n",
       "<style scoped>\n",
       "    .dataframe tbody tr th:only-of-type {\n",
       "        vertical-align: middle;\n",
       "    }\n",
       "\n",
       "    .dataframe tbody tr th {\n",
       "        vertical-align: top;\n",
       "    }\n",
       "\n",
       "    .dataframe thead th {\n",
       "        text-align: right;\n",
       "    }\n",
       "</style>\n",
       "<table border=\"1\" class=\"dataframe\">\n",
       "  <thead>\n",
       "    <tr style=\"text-align: right;\">\n",
       "      <th></th>\n",
       "      <th>category_list</th>\n",
       "      <th>Automotive &amp; Sports</th>\n",
       "      <th>Blanks</th>\n",
       "      <th>Cleantech / Semiconductors</th>\n",
       "      <th>Entertainment</th>\n",
       "      <th>Health</th>\n",
       "      <th>Manufacturing</th>\n",
       "      <th>News, Search and Messaging</th>\n",
       "      <th>Others</th>\n",
       "      <th>Social, Finance, Analytics, Advertising</th>\n",
       "    </tr>\n",
       "  </thead>\n",
       "  <tbody>\n",
       "    <tr>\n",
       "      <th>0</th>\n",
       "      <td>NaN</td>\n",
       "      <td>0</td>\n",
       "      <td>1</td>\n",
       "      <td>0</td>\n",
       "      <td>0</td>\n",
       "      <td>0</td>\n",
       "      <td>0</td>\n",
       "      <td>0</td>\n",
       "      <td>0</td>\n",
       "      <td>0</td>\n",
       "    </tr>\n",
       "    <tr>\n",
       "      <th>1</th>\n",
       "      <td>3D</td>\n",
       "      <td>0</td>\n",
       "      <td>0</td>\n",
       "      <td>0</td>\n",
       "      <td>0</td>\n",
       "      <td>0</td>\n",
       "      <td>1</td>\n",
       "      <td>0</td>\n",
       "      <td>0</td>\n",
       "      <td>0</td>\n",
       "    </tr>\n",
       "    <tr>\n",
       "      <th>2</th>\n",
       "      <td>3D Printing</td>\n",
       "      <td>0</td>\n",
       "      <td>0</td>\n",
       "      <td>0</td>\n",
       "      <td>0</td>\n",
       "      <td>0</td>\n",
       "      <td>1</td>\n",
       "      <td>0</td>\n",
       "      <td>0</td>\n",
       "      <td>0</td>\n",
       "    </tr>\n",
       "    <tr>\n",
       "      <th>3</th>\n",
       "      <td>3D Technology</td>\n",
       "      <td>0</td>\n",
       "      <td>0</td>\n",
       "      <td>0</td>\n",
       "      <td>0</td>\n",
       "      <td>0</td>\n",
       "      <td>1</td>\n",
       "      <td>0</td>\n",
       "      <td>0</td>\n",
       "      <td>0</td>\n",
       "    </tr>\n",
       "    <tr>\n",
       "      <th>4</th>\n",
       "      <td>Accounting</td>\n",
       "      <td>0</td>\n",
       "      <td>0</td>\n",
       "      <td>0</td>\n",
       "      <td>0</td>\n",
       "      <td>0</td>\n",
       "      <td>0</td>\n",
       "      <td>0</td>\n",
       "      <td>0</td>\n",
       "      <td>1</td>\n",
       "    </tr>\n",
       "  </tbody>\n",
       "</table>\n",
       "</div>"
      ],
      "text/plain": [
       "   category_list  Automotive & Sports  Blanks  Cleantech / Semiconductors  \\\n",
       "0            NaN                    0       1                           0   \n",
       "1             3D                    0       0                           0   \n",
       "2    3D Printing                    0       0                           0   \n",
       "3  3D Technology                    0       0                           0   \n",
       "4     Accounting                    0       0                           0   \n",
       "\n",
       "   Entertainment  Health  Manufacturing  News, Search and Messaging  Others  \\\n",
       "0              0       0              0                           0       0   \n",
       "1              0       0              1                           0       0   \n",
       "2              0       0              1                           0       0   \n",
       "3              0       0              1                           0       0   \n",
       "4              0       0              0                           0       0   \n",
       "\n",
       "   Social, Finance, Analytics, Advertising  \n",
       "0                                        0  \n",
       "1                                        0  \n",
       "2                                        0  \n",
       "3                                        0  \n",
       "4                                        1  "
      ]
     },
     "execution_count": 56,
     "metadata": {},
     "output_type": "execute_result"
    }
   ],
   "source": [
    "mapping.head()"
   ]
  },
  {
   "cell_type": "markdown",
   "metadata": {},
   "source": [
    "- Drop rows where Blanks = 1 as these rows do not contain any valuable data. \n",
    "- Dropping Blanks column after that as it is no longer required."
   ]
  },
  {
   "cell_type": "code",
   "execution_count": 57,
   "metadata": {},
   "outputs": [],
   "source": [
    "mapping = mapping[mapping['Blanks']==0].reset_index(drop=True)\n",
    "mapping = mapping.drop('Blanks',axis=1)"
   ]
  },
  {
   "cell_type": "markdown",
   "metadata": {},
   "source": [
    "Fetching only primary sector:"
   ]
  },
  {
   "cell_type": "code",
   "execution_count": 58,
   "metadata": {},
   "outputs": [],
   "source": [
    "master_frame['category_list']=master_frame['category_list'].fillna('')\n",
    "master_frame['category_list']=master_frame['category_list'].apply(lambda x:x.split('|')[0])"
   ]
  },
  {
   "cell_type": "markdown",
   "metadata": {},
   "source": [
    "Checking if every category belongs to only one sector:"
   ]
  },
  {
   "cell_type": "code",
   "execution_count": 59,
   "metadata": {},
   "outputs": [
    {
     "data": {
      "text/plain": [
       "array([1])"
      ]
     },
     "execution_count": 59,
     "metadata": {},
     "output_type": "execute_result"
    }
   ],
   "source": [
    "mapping.sum(axis=1).unique()"
   ]
  },
  {
   "cell_type": "markdown",
   "metadata": {},
   "source": [
    "Exploring 'category_list' column:"
   ]
  },
  {
   "cell_type": "code",
   "execution_count": 60,
   "metadata": {},
   "outputs": [
    {
     "data": {
      "text/plain": [
       "array(['3D', '3D Printing', '3D Technology', 'Accounting',\n",
       "       'Active Lifestyle', 'Ad Targeting', 'Advanced Materials',\n",
       "       'Adventure Travel', 'Advertising', 'Advertising Exchanges',\n",
       "       'Advertising Networks', 'Advertising Platforms', 'Advice',\n",
       "       'Aerospace', 'Agriculture', 'Air Pollution Control', 'Algorithms',\n",
       "       'All Markets', 'All Students', 'Alter0tive Medicine', 'Alumni',\n",
       "       'A0lytics', 'Android', 'Angels', 'Animal Feed',\n",
       "       'Anything Capital Intensive', 'App Discovery', 'App Marketing',\n",
       "       'App Stores', 'Application Performance Monitoring',\n",
       "       'Application Platforms', 'Apps', 'Aquaculture', 'Architecture',\n",
       "       'Archiving', 'Art', 'Artificial Intelligence', 'Artists Globally',\n",
       "       'Assisitive Technology', 'Assisted Living', 'Auctions', 'Audio',\n",
       "       'Audiobooks', 'Augmented Reality', 'Auto', 'Automated Kiosk',\n",
       "       'Automotive', 'B2B', 'B2B Express Delivery', 'Babies',\n",
       "       'Baby Accessories', 'Baby Boomers', 'Baby Safety', 'Banking',\n",
       "       'Batteries', 'Beauty', 'Bicycles', 'Big Data', 'Big Data A0lytics',\n",
       "       'Billing', 'Bio-Pharm', 'Biofuels', 'Bioinformatics',\n",
       "       'Biomass Power Generation', 'Biometrics', 'Biotechnology',\n",
       "       'Bitcoin', 'Blogging Platforms', 'Boating Industry',\n",
       "       'BPO Services', 'Brand Marketing', 'Brewing',\n",
       "       'Bridging Online and Offline', 'Broadcasting', 'Brokers',\n",
       "       'Browser Extensions', 'Building Owners', 'Building Products',\n",
       "       'Business A0lytics', 'Business Development',\n",
       "       'Business Information Systems', 'Business Intelligence',\n",
       "       'Business Productivity', 'Business Services', 'Business Travelers',\n",
       "       'Cable', 'CAD', 'Call Center Automation', 'Can0bis', 'Carbon',\n",
       "       'Career Ma0gement', 'Career Planning', 'Cars', 'Casual Games',\n",
       "       'Celebrity', 'Certification Test', 'Charities', 'Charity',\n",
       "       'Charter Schools', 'Chat', 'Chemicals', 'Child Care',\n",
       "       'Chi0 Internet', 'Civil Engineers', 'Classifieds', 'Clean Energy',\n",
       "       'Clean Technology', 'Clean Technology IT', 'Clinical Trials',\n",
       "       'Cloud-Based Music', 'Cloud Computing', 'Cloud Data Services',\n",
       "       'Cloud Infrastructure', 'Cloud Ma0gement', 'Cloud Security',\n",
       "       'Coffee', 'Collaboration', 'Collaborative Consumption',\n",
       "       'Collectibles', 'College Campuses', 'College Recruiting',\n",
       "       'Colleges', 'Comics', 'Commercial Real Estate', 'Commercial Solar',\n",
       "       'Commodities', 'Communications Hardware',\n",
       "       'Communications Infrastructure', 'Communities',\n",
       "       'Comparison Shopping', 'Computer Vision', 'Computers',\n",
       "       'Concentrated Solar Power', 'Concerts', 'Console Gaming',\n",
       "       'Construction', 'Consulting', 'Consumer Behavior',\n",
       "       'Consumer Electronics', 'Consumer Goods', 'Consumer Internet',\n",
       "       'Consumer Lending', 'Consumers', 'Contact Centers',\n",
       "       'Contact Ma0gement', 'Content', 'Content Creators',\n",
       "       'Content Delivery', 'Content Discovery', 'Content Syndication',\n",
       "       'Contests', 'Cooking', 'Corporate IT', 'Corporate Training',\n",
       "       'Corporate Wellness', 'Cosmetic Surgery', 'Cosmetics', 'Coupons',\n",
       "       'Coworking', 'Craft Beer', 'Creative', 'Creative Industries',\n",
       "       'Credit', 'Credit Cards', 'CRM', 'Crowdfunding', 'Crowdsourcing',\n",
       "       'Curated Web', 'Custom Retail', 'Customer Service',\n",
       "       'Customer Support Tools', 'Cyber', 'Cyber Security',\n",
       "       'Data Center Automation', 'Data Center Infrastructure',\n",
       "       'Data Centers', 'Data Integration', 'Data Mining', 'Data Privacy',\n",
       "       'Data Security', 'Data Visualization', 'Databases',\n",
       "       'Debt Collecting', 'Defense', 'Delivery', 'Demographies', 'Dental',\n",
       "       'Design', 'Designers', 'Developer APIs', 'Developer Tools',\n",
       "       'Development Platforms', 'Diabetes', 'Diagnostics',\n",
       "       'Dietary Supplements', 'Digital Entertainment', 'Digital Media',\n",
       "       'Digital Rights Ma0gement', 'Digital Sig0ge', 'Direct Advertising',\n",
       "       'Direct Marketing', 'Direct Sales', 'Discounts', 'Displays',\n",
       "       'Disruptive Models', 'Distribution', 'Distributors', 'DIY',\n",
       "       'Doctors', 'Document Ma0gement', 'DOD/Military', 'Domains',\n",
       "       'Drones', 'E-Books', 'E-Commerce', 'E-Commerce Platforms',\n",
       "       'Early-Stage Technology', 'EBooks', 'EDA Tools', 'Ediscovery',\n",
       "       'EdTech', 'Education', 'Educatio0l Games', 'Edutainment',\n",
       "       'Elder Care', 'Electric Vehicles', 'Electrical Distribution',\n",
       "       'Electronic Health Records', 'Electronics', 'Email',\n",
       "       'Email Marketing', 'Email Newsletters',\n",
       "       'Embedded Hardware and Software', 'Emerging Markets',\n",
       "       'Employer Benefits Programs', 'Employment', 'Energy',\n",
       "       'Energy Efficiency', 'Energy IT', 'Energy Ma0gement',\n",
       "       'Energy Storage', 'Engineering Firms', 'Enterprise 2.0',\n",
       "       'Enterprise Application', 'Enterprise Purchasing',\n",
       "       'Enterprise Resource Planning', 'Enterprise Search',\n",
       "       'Enterprise Security', 'Enterprise Software', 'Enterprises',\n",
       "       'Entertainment', 'Entertainment Industry', 'Entrepreneur',\n",
       "       'Environmental Innovation', 'Estimation and Quoting',\n",
       "       'Event Ma0gement', 'Events', 'Exercise', 'Eyewear',\n",
       "       'Face Recognition', 'Facebook Applications', 'Families',\n",
       "       'Fantasy Sports', 'Farmers Market', 'Farming', 'Fashion',\n",
       "       'Fertility', 'Field Support Services', 'File Sharing', 'Film',\n",
       "       'Film Distribution', 'Film Production', 'Fi0nce',\n",
       "       'Fi0nce Technology', 'Fi0ncial Exchanges', 'Fi0ncial Services',\n",
       "       'FinTech', 'Fitness', 'Flash Sales', 'Flash Storage',\n",
       "       'Fleet Ma0gement', 'Flowers', 'Fmcg', 'Food Processing', 'Forums',\n",
       "       'Fraud Detection', 'Freelancers', 'Freemium', 'FreetoPlay Gaming',\n",
       "       'Fruit', 'Fuel Cells', 'Fuels', 'Funeral Industry', 'Furniture',\n",
       "       'Gadget', 'Gambling', 'Game', 'Game Mechanics', 'Games',\n",
       "       'Gamification', 'Gas', 'Gay & Lesbian', 'General Public Worldwide',\n",
       "       'Genetic Testing', 'Geospatial', 'Gift Card', 'Gift Exchange',\n",
       "       'Gift Registries', 'Gold', 'Gover0nce', 'Government Innovation',\n",
       "       'Governments', 'Gps', 'Graphics', 'Green', 'Green Consumer Goods',\n",
       "       'Groceries', 'Group Buying', 'Group SMS', 'Guides', 'Handmade',\n",
       "       'Hardware', 'Hardware + Software', 'Health and Insurance',\n",
       "       'Health and Wellness', 'Health Care',\n",
       "       'Health Care Information Technology', 'Health Diagnostics',\n",
       "       'Health Services Industry', 'Healthcare Services',\n",
       "       'Heavy Industry', 'Hedge Funds', 'High School Students',\n",
       "       'High Schools', 'High Tech', 'Home & Garden', 'Home Automation',\n",
       "       'Home Decor', 'Home Owners', 'Home Renovation',\n",
       "       'Homeland Security', 'Homeless Shelter', 'Hospitality',\n",
       "       'Hospitals', 'Hotels', 'Human Computer Interaction',\n",
       "       'Human Resource Automation', 'Human Resources', 'Humanitarian',\n",
       "       'IaaS', 'ICT', 'Identity', 'Identity Ma0gement',\n",
       "       'Image Recognition', 'Impact Investing', 'In-Flight Entertainment',\n",
       "       'Incentives', 'Incubators', 'Independent Music Labels',\n",
       "       'Independent Pharmacies', 'Indians', 'Indoor Positioning',\n",
       "       'Industrial', 'Industrial Automation', 'Information Security',\n",
       "       'Information Services', 'Information Technology', 'Infrastructure',\n",
       "       'Innovation Engineering', 'Innovation Ma0gement', 'Insurance',\n",
       "       'Intellectual Asset Ma0gement', 'Intellectual Property',\n",
       "       'Intelligent Systems', 'Interest Graph', 'Interface Design',\n",
       "       'Interior Design', 'Internet', 'Internet Infrastructure',\n",
       "       'Internet Marketing', 'Internet of Things',\n",
       "       'Internet Radio Market', 'Internet Service Providers',\n",
       "       'Investment Ma0gement', 'iOS', 'iPad', 'iPhone',\n",
       "       'IT and Cybersecurity', 'IT Ma0gement', 'Jewelry', 'Jour0lism',\n",
       "       'K-12 Education', 'Kids', 'Knowledge Ma0gement', 'Landscaping',\n",
       "       'Language Learning', 'Lasers', 'Law Enforcement',\n",
       "       'Lead Generation', 'Lead Ma0gement', 'Legal', 'Leisure',\n",
       "       'Licensing', 'Life Sciences', 'Lifestyle', 'Lifestyle Businesses',\n",
       "       'Lifestyle Products', 'Lighting', 'Limousines', 'Linux', 'Local',\n",
       "       'Local Advertising', 'Local Based Services', 'Local Businesses',\n",
       "       'Local Commerce', 'Local Search', 'Location Based Services',\n",
       "       'Logistics', 'Logistics Company', 'Lotteries', 'Low Bid Auctions',\n",
       "       'Loyalty Programs', 'M2M', 'Machine Learning', 'Manufacturing',\n",
       "       'Maps', 'Market Research', 'Marketing Automation', 'Marketplaces',\n",
       "       'Mass Customization', 'Match-Making', 'Material Science',\n",
       "       'Mechanical Solutions', 'Media', 'Medical', 'Medical Devices',\n",
       "       'Medical Professio0ls', 'Meeting Software', 'Mens Specific',\n",
       "       'Messaging', 'mHealth', 'Micro-Enterprises', 'MicroBlogging',\n",
       "       'Minerals', 'Mining Technologies', 'Mobile', 'Mobile Advertising',\n",
       "       'Mobile A0lytics', 'Mobile Commerce', 'Mobile Devices',\n",
       "       'Mobile Enterprise', 'Mobile Games', 'Mobile Health',\n",
       "       'Mobile Infrastructure', 'Mobile Payments', 'Mobile Security',\n",
       "       'Mobile Shopping', 'Mobile Social', 'Mobile Software Tools',\n",
       "       'Mobile Video', 'Mobility', 'Monetization', 'Moneymaking',\n",
       "       'Multi-level Marketing', 'Music', 'Music Education',\n",
       "       'Music Services', 'Music Venues', 'Musical Instruments',\n",
       "       'Musicians', '0notechnology', '0tural Language Processing',\n",
       "       '0tural Resources', '0vigation', 'Network Security', 'Networking',\n",
       "       'Neuroscience', 'New Product Development', 'New Technologies',\n",
       "       'News', 'Non-Tech', 'Non Profit', 'Nonprofits', 'Nutrition',\n",
       "       'Office Space', 'Oil', 'Oil & Gas', 'Oil and Gas', 'Online Dating',\n",
       "       'Online Education', 'Online Gaming', 'Online Identity',\n",
       "       'Online Rental', 'Online Reservations', 'Online Scheduling',\n",
       "       'Online Shopping', 'Online Travel', 'Online Video Advertising',\n",
       "       'Open Source', 'Opinions', 'Optical Communications',\n",
       "       'Optimization', 'Organic', 'Organic Food', 'Outdoors',\n",
       "       'Outsourcing', 'P2P Money Transfer', 'PaaS', 'Parenting',\n",
       "       'Parking', 'Payments', 'Peer-to-Peer', 'Performance Marketing',\n",
       "       'Perso0l Branding', 'Perso0l Data', 'Perso0l Fi0nce',\n",
       "       'Perso0l Health', 'Perso0lization', 'Pervasive Computing', 'Pets',\n",
       "       'Pharmaceuticals', 'Photo Editing', 'Photo Sharing', 'Photography',\n",
       "       'Physical Security', 'Physicians', 'Plumbers', 'Point of Sale',\n",
       "       'Politics', 'Polling', 'Portals', 'Postal and Courier Services',\n",
       "       'Pre Seed', 'Predictive A0lytics', 'Presentations',\n",
       "       'Price Comparison', 'Printing', 'Privacy', 'Private School',\n",
       "       'Private Social Networking', 'Procurement', 'Product Design',\n",
       "       'Product Development Services', 'Productivity',\n",
       "       'Productivity Software', 'Professio0l Networking',\n",
       "       'Professio0l Services', 'Project Ma0gement', 'Promotio0l',\n",
       "       'Property Ma0gement', 'Public Relations', 'Public Safety',\n",
       "       'Public Transportation', 'Publishing', 'Q&A', 'QR Codes',\n",
       "       'Real Estate', 'Real Time', 'Realtors', 'Recreation', 'Recruiting',\n",
       "       'Recycling', 'Religion', 'Renewable Energies', 'Renewable Tech',\n",
       "       'Rental Housing', 'Reputation', 'Resorts', 'Restaurants', 'Retail',\n",
       "       'Retail Technology', 'Reviews and Recommendations', 'RFID',\n",
       "       'Ride Sharing', 'Risk Ma0gement', 'Robotics', 'SaaS',\n",
       "       'Sales and Marketing', 'Sales Automation', 'Search',\n",
       "       'Search Marketing', 'Security',\n",
       "       'Semiconductor Manufacturing Equipment', 'Semiconductors',\n",
       "       'Senior Citizens', 'Senior Health', 'Sensors', 'SEO',\n",
       "       'Service Industries', 'Service Providers', 'Services', 'SexTech',\n",
       "       'Shared Services', 'Shipping', 'Shoes', 'Shopping', 'Simulation',\n",
       "       'Skill Assessment', 'Small and Medium Businesses', 'Smart Grid',\n",
       "       'SNS', 'Soccer', 'Social + Mobile + Local', 'Social Bookmarking',\n",
       "       'Social Business', 'Social Buying', 'Social Commerce',\n",
       "       'Social CRM', 'Social Fundraising', 'Social Games', 'Social Media',\n",
       "       'Social Media Ma0gement', 'Social Media Marketing',\n",
       "       'Social Media Platforms', 'Social Network Media', 'Social News',\n",
       "       'Social Recruiting', 'Social Television', 'Social Travel',\n",
       "       'Software', 'Solar', 'Space Travel', 'Specialty Chemicals',\n",
       "       'Specialty Foods', 'Speech Recognition', 'Sporting Goods',\n",
       "       'Sports', 'Staffing Firms', 'Startups', 'Stock Exchanges',\n",
       "       'Storage', 'Subscription Service', 'Supply Chain Ma0gement',\n",
       "       'Surveys', 'Synchronization', 'Systems', 'Task Ma0gement', 'Taxis',\n",
       "       'Tea', 'Technology', 'Telecommunications', 'Television',\n",
       "       'Textiles', 'Theatre', 'Therapeutics', 'Ticketing', 'Tourism',\n",
       "       'Tracking', 'Trading', 'Training', 'Translation', 'Transportation',\n",
       "       'Travel', 'Travel & Tourism', 'Universities',\n",
       "       'University Students', 'Unmanned Air Systems', 'Usability',\n",
       "       'User Experience Design', 'User Interface', 'Utilities',\n",
       "       'Vending and Concessions', 'Venture Capital', 'Veteri0ry', 'Video',\n",
       "       'Video Conferencing', 'Video Games', 'Video on Demand',\n",
       "       'Video Streaming', 'Virtual Workforces', 'VoIP', 'Waste Ma0gement',\n",
       "       'Watch', 'Water', 'Water Purification', 'Wearables',\n",
       "       'Web Browsers', 'Web Design', 'Web Development', 'Web Hosting',\n",
       "       'Web Tools', 'Weddings', 'Wholesale', 'Wine And Spirits',\n",
       "       'Wireless', 'Women', 'Young Adults'], dtype=object)"
      ]
     },
     "execution_count": 60,
     "metadata": {},
     "output_type": "execute_result"
    }
   ],
   "source": [
    "mapping['category_list'].unique()"
   ]
  },
  {
   "cell_type": "markdown",
   "metadata": {},
   "source": [
    "category_list columns contains 0 in place of 'na':"
   ]
  },
  {
   "cell_type": "code",
   "execution_count": 61,
   "metadata": {},
   "outputs": [],
   "source": [
    "mapping['category_list']=mapping['category_list'].str.replace('0','na')"
   ]
  },
  {
   "cell_type": "markdown",
   "metadata": {},
   "source": [
    "Creating Sector column, containing sector name, based on main sector columns:"
   ]
  },
  {
   "cell_type": "code",
   "execution_count": 62,
   "metadata": {},
   "outputs": [],
   "source": [
    "mapping['Sector']=''\n",
    "for i in mapping.columns:\n",
    "    mapping['Sector']=np.where(mapping[i]==1,i,mapping['Sector'])"
   ]
  },
  {
   "cell_type": "markdown",
   "metadata": {},
   "source": [
    "Making sure category_list column does not have same issue as mapping's category_list column"
   ]
  },
  {
   "cell_type": "code",
   "execution_count": 63,
   "metadata": {},
   "outputs": [
    {
     "data": {
      "text/plain": [
       "array(['Enterprise 2.0'], dtype=object)"
      ]
     },
     "execution_count": 63,
     "metadata": {},
     "output_type": "execute_result"
    }
   ],
   "source": [
    "master_frame.loc[master_frame['category_list'].str.contains('0'),'category_list'].unique()"
   ]
  },
  {
   "cell_type": "code",
   "execution_count": 64,
   "metadata": {},
   "outputs": [],
   "source": [
    "len_masf = len(master_frame)\n",
    "master_frame=pd.merge(master_frame,mapping[['category_list','Sector']],on='category_list',how='left')\n",
    "assert len_masf == len(master_frame)"
   ]
  },
  {
   "cell_type": "markdown",
   "metadata": {},
   "source": [
    "Checking percentage of NULLs in Sector column:"
   ]
  },
  {
   "cell_type": "code",
   "execution_count": 65,
   "metadata": {},
   "outputs": [
    {
     "data": {
      "text/plain": [
       "2.413534148274855"
      ]
     },
     "execution_count": 65,
     "metadata": {},
     "output_type": "execute_result"
    }
   ],
   "source": [
    "(len(master_frame[master_frame['Sector'].isnull()])/len(master_frame))*100"
   ]
  },
  {
   "cell_type": "markdown",
   "metadata": {},
   "source": [
    "Since NULL% is only around 2.4%, these rows can be just be filled in with '', without hindering the sector analysis. But these are being dropped only when we analyse number of investments, to err on the side of caution."
   ]
  },
  {
   "cell_type": "code",
   "execution_count": 66,
   "metadata": {},
   "outputs": [
    {
     "data": {
      "text/plain": [
       "Others                                     10997\n",
       "Social, Finance, Analytics, Advertising     9668\n",
       "Cleantech / Semiconductors                  9634\n",
       "News, Search and Messaging                  5869\n",
       "Health                                      3972\n",
       "Manufacturing                               3282\n",
       "Entertainment                               2602\n",
       "                                            1157\n",
       "Automotive & Sports                          757\n",
       "Name: Sector, dtype: int64"
      ]
     },
     "execution_count": 66,
     "metadata": {},
     "output_type": "execute_result"
    }
   ],
   "source": [
    "master_frame['Sector']=master_frame['Sector'].fillna('')\n",
    "pd.value_counts(master_frame['Sector'])"
   ]
  },
  {
   "cell_type": "code",
   "execution_count": 67,
   "metadata": {},
   "outputs": [],
   "source": [
    "D1 = master_frame[master_frame['Country Name']=='United States of America'].reset_index(drop=True)\n",
    "D2 = master_frame[master_frame['Country Name']=='United Kingdom of Great Britain and Northern Ireland'].reset_index(drop=True)\n",
    "D3 = master_frame[master_frame['Country Name']=='India'].reset_index(drop=True)"
   ]
  },
  {
   "cell_type": "markdown",
   "metadata": {},
   "source": [
    "Keeping only required columns:"
   ]
  },
  {
   "cell_type": "code",
   "execution_count": 68,
   "metadata": {},
   "outputs": [],
   "source": [
    "D1 = D1[['company_permalink','name','category_list','raised_amount_usd','Country Name','Sector']]\n",
    "D2 = D2[['company_permalink','name','category_list','raised_amount_usd','Country Name','Sector']]\n",
    "D3 = D3[['company_permalink','name','category_list','raised_amount_usd','Country Name','Sector']]"
   ]
  },
  {
   "cell_type": "markdown",
   "metadata": {},
   "source": [
    "Taking pivoted data of D1,D2,D3 as some companies have been invested in more than once resulting in duplicate entries. Taking the total sum of investments should suffice for the analysis as the total sum also indicates the confidence in the company."
   ]
  },
  {
   "cell_type": "code",
   "execution_count": 69,
   "metadata": {},
   "outputs": [],
   "source": [
    "D1=pd.pivot_table(data=D1,index=['company_permalink','name','category_list','Country Name','Sector'],values='raised_amount_usd',aggfunc='sum')\n",
    "D1=D1.reset_index()"
   ]
  },
  {
   "cell_type": "code",
   "execution_count": 70,
   "metadata": {},
   "outputs": [],
   "source": [
    "D2=pd.pivot_table(data=D2,index=['company_permalink','name','category_list','Country Name','Sector'],values='raised_amount_usd',aggfunc='sum')\n",
    "D2=D2.reset_index()"
   ]
  },
  {
   "cell_type": "code",
   "execution_count": 71,
   "metadata": {},
   "outputs": [],
   "source": [
    "D3=pd.pivot_table(data=D3,index=['company_permalink','name','category_list','Country Name','Sector'],values='raised_amount_usd',aggfunc='sum')\n",
    "D3=D3.reset_index()"
   ]
  },
  {
   "cell_type": "markdown",
   "metadata": {},
   "source": [
    "<b>Total no. of investments</b>"
   ]
  },
  {
   "cell_type": "code",
   "execution_count": 72,
   "metadata": {},
   "outputs": [
    {
     "data": {
      "text/plain": [
       "20483"
      ]
     },
     "execution_count": 72,
     "metadata": {},
     "output_type": "execute_result"
    }
   ],
   "source": [
    "len(D1)"
   ]
  },
  {
   "cell_type": "code",
   "execution_count": 73,
   "metadata": {},
   "outputs": [
    {
     "data": {
      "text/plain": [
       "1548"
      ]
     },
     "execution_count": 73,
     "metadata": {},
     "output_type": "execute_result"
    }
   ],
   "source": [
    "len(D2)"
   ]
  },
  {
   "cell_type": "code",
   "execution_count": 74,
   "metadata": {},
   "outputs": [
    {
     "data": {
      "text/plain": [
       "684"
      ]
     },
     "execution_count": 74,
     "metadata": {},
     "output_type": "execute_result"
    }
   ],
   "source": [
    "len(D3)"
   ]
  },
  {
   "cell_type": "markdown",
   "metadata": {},
   "source": [
    "<b>Total Amt Invested</b>"
   ]
  },
  {
   "cell_type": "code",
   "execution_count": 75,
   "metadata": {},
   "outputs": [
    {
     "data": {
      "text/plain": [
       "433675842796.0"
      ]
     },
     "execution_count": 75,
     "metadata": {},
     "output_type": "execute_result"
    }
   ],
   "source": [
    "D1['raised_amount_usd'].sum()"
   ]
  },
  {
   "cell_type": "code",
   "execution_count": 76,
   "metadata": {},
   "outputs": [
    {
     "data": {
      "text/plain": [
       "21485627416.0"
      ]
     },
     "execution_count": 76,
     "metadata": {},
     "output_type": "execute_result"
    }
   ],
   "source": [
    "D2['raised_amount_usd'].sum()"
   ]
  },
  {
   "cell_type": "code",
   "execution_count": 77,
   "metadata": {},
   "outputs": [
    {
     "data": {
      "text/plain": [
       "15231858718.0"
      ]
     },
     "execution_count": 77,
     "metadata": {},
     "output_type": "execute_result"
    }
   ],
   "source": [
    "D3['raised_amount_usd'].sum()"
   ]
  },
  {
   "cell_type": "markdown",
   "metadata": {},
   "source": [
    "<b>Top, Second, Third Sector - No. of Investments</b>"
   ]
  },
  {
   "cell_type": "code",
   "execution_count": 78,
   "metadata": {},
   "outputs": [
    {
     "data": {
      "text/plain": [
       "Others                                     4883\n",
       "Social, Finance, Analytics, Advertising    4055\n",
       "Cleantech / Semiconductors                 3870\n",
       "News, Search and Messaging                 2439\n",
       "Health                                     1903\n",
       "Manufacturing                              1482\n",
       "Entertainment                              1127\n",
       "                                            381\n",
       "Automotive & Sports                         343\n",
       "Name: Sector, dtype: int64"
      ]
     },
     "execution_count": 78,
     "metadata": {},
     "output_type": "execute_result"
    }
   ],
   "source": [
    "pd.value_counts(D1['Sector'])"
   ]
  },
  {
   "cell_type": "code",
   "execution_count": 79,
   "metadata": {},
   "outputs": [
    {
     "data": {
      "text/plain": [
       "Others                                     387\n",
       "Social, Finance, Analytics, Advertising    313\n",
       "Cleantech / Semiconductors                 290\n",
       "News, Search and Messaging                 185\n",
       "Entertainment                              121\n",
       "Manufacturing                               95\n",
       "Health                                      86\n",
       "                                            41\n",
       "Automotive & Sports                         30\n",
       "Name: Sector, dtype: int64"
      ]
     },
     "execution_count": 79,
     "metadata": {},
     "output_type": "execute_result"
    }
   ],
   "source": [
    "pd.value_counts(D2['Sector'])"
   ]
  },
  {
   "cell_type": "code",
   "execution_count": 80,
   "metadata": {},
   "outputs": [
    {
     "data": {
      "text/plain": [
       "Others                                     221\n",
       "Social, Finance, Analytics, Advertising    141\n",
       "News, Search and Messaging                 108\n",
       "Entertainment                               52\n",
       "Manufacturing                               48\n",
       "Cleantech / Semiconductors                  46\n",
       "Health                                      42\n",
       "Automotive & Sports                         18\n",
       "                                             8\n",
       "Name: Sector, dtype: int64"
      ]
     },
     "execution_count": 80,
     "metadata": {},
     "output_type": "execute_result"
    }
   ],
   "source": [
    "pd.value_counts(D3['Sector'])"
   ]
  },
  {
   "cell_type": "markdown",
   "metadata": {},
   "source": [
    "<b>Company that receieved highest investment in the Top Sector</b>"
   ]
  },
  {
   "cell_type": "code",
   "execution_count": 81,
   "metadata": {},
   "outputs": [
    {
     "data": {
      "text/plain": [
       "16531    SoFi\n",
       "Name: name, dtype: object"
      ]
     },
     "execution_count": 81,
     "metadata": {},
     "output_type": "execute_result"
    }
   ],
   "source": [
    "D1.loc[D1['raised_amount_usd']==D1.loc[D1['Sector']=='Others','raised_amount_usd'].max(),'name']"
   ]
  },
  {
   "cell_type": "code",
   "execution_count": 82,
   "metadata": {},
   "outputs": [
    {
     "data": {
      "text/plain": [
       "960    OneWeb\n",
       "Name: name, dtype: object"
      ]
     },
     "execution_count": 82,
     "metadata": {},
     "output_type": "execute_result"
    }
   ],
   "source": [
    "D2.loc[D2['raised_amount_usd']==D2.loc[D2['Sector']=='Others','raised_amount_usd'].max(),'name']"
   ]
  },
  {
   "cell_type": "code",
   "execution_count": 83,
   "metadata": {},
   "outputs": [
    {
     "data": {
      "text/plain": [
       "196    Flipkart\n",
       "Name: name, dtype: object"
      ]
     },
     "execution_count": 83,
     "metadata": {},
     "output_type": "execute_result"
    }
   ],
   "source": [
    "D3.loc[D3['raised_amount_usd']==D3.loc[D3['Sector']=='Others','raised_amount_usd'].max(),'name']"
   ]
  },
  {
   "cell_type": "markdown",
   "metadata": {},
   "source": [
    "<b>Company that receieved highest investment in the Second Sector</b>"
   ]
  },
  {
   "cell_type": "code",
   "execution_count": 84,
   "metadata": {},
   "outputs": [
    {
     "data": {
      "text/plain": [
       "10824    MediaVast\n",
       "Name: name, dtype: object"
      ]
     },
     "execution_count": 84,
     "metadata": {},
     "output_type": "execute_result"
    }
   ],
   "source": [
    "D1.loc[D1['raised_amount_usd']==D1.loc[D1['Sector']=='Social, Finance, Analytics, Advertising','raised_amount_usd'].max(),'name']"
   ]
  },
  {
   "cell_type": "code",
   "execution_count": 85,
   "metadata": {},
   "outputs": [
    {
     "data": {
      "text/plain": [
       "1069    Powa Technologies\n",
       "Name: name, dtype: object"
      ]
     },
     "execution_count": 85,
     "metadata": {},
     "output_type": "execute_result"
    }
   ],
   "source": [
    "D2.loc[D2['raised_amount_usd']==D2.loc[D2['Sector']=='Social, Finance, Analytics, Advertising','raised_amount_usd'].max(),'name']"
   ]
  },
  {
   "cell_type": "code",
   "execution_count": 86,
   "metadata": {},
   "outputs": [
    {
     "data": {
      "text/plain": [
       "527    ShopClues.com\n",
       "Name: name, dtype: object"
      ]
     },
     "execution_count": 86,
     "metadata": {},
     "output_type": "execute_result"
    }
   ],
   "source": [
    "D3.loc[D3['raised_amount_usd']==D3.loc[D3['Sector']=='Social, Finance, Analytics, Advertising','raised_amount_usd'].max(),'name']"
   ]
  },
  {
   "cell_type": "markdown",
   "metadata": {},
   "source": [
    "## Checkpoint 6 - Plots"
   ]
  },
  {
   "cell_type": "markdown",
   "metadata": {},
   "source": [
    "### Plot 1 - Representative value"
   ]
  },
  {
   "cell_type": "code",
   "execution_count": 87,
   "metadata": {},
   "outputs": [],
   "source": [
    "p1 = rounds2.loc[(rounds2['funding_round_type'].isin(['venture','seed','angel','private_equity']))&(rounds2['raised_amount_usd']!=0),['funding_round_type','raised_amount_usd']].reset_index(drop=True)"
   ]
  },
  {
   "cell_type": "code",
   "execution_count": 88,
   "metadata": {},
   "outputs": [],
   "source": [
    "#Converting raised_amount_usd column to millions (to make scale more interpretable):\n",
    "p1['raised_amount_usd']=p1['raised_amount_usd']/1000000"
   ]
  },
  {
   "cell_type": "code",
   "execution_count": 89,
   "metadata": {},
   "outputs": [],
   "source": [
    "#Removing large values to make plot more interpretable (Have chosen value 75 million as it most investments across all categories fall within this value):\n",
    "p1=p1[p1['raised_amount_usd']<=75].reset_index(drop=True)"
   ]
  },
  {
   "cell_type": "code",
   "execution_count": 90,
   "metadata": {},
   "outputs": [
    {
     "name": "stderr",
     "output_type": "stream",
     "text": [
      "/Users/nandinisridharr/opt/anaconda3/lib/python3.8/site-packages/seaborn/_decorators.py:36: FutureWarning: Pass the following variables as keyword args: x, y. From version 0.12, the only valid positional argument will be `data`, and passing other arguments without an explicit keyword will result in an error or misinterpretation.\n",
      "  warnings.warn(\n"
     ]
    },
    {
     "data": {
      "image/png": "[encoded data removed]",
      "text/plain": [
       "<Figure size 648x504 with 1 Axes>"
      ]
     },
     "metadata": {
      "needs_background": "light"
     },
     "output_type": "display_data"
    }
   ],
   "source": [
    "plt.figure(figsize=[9,7])\n",
    "sns.boxplot(p1['funding_round_type'],p1['raised_amount_usd'])\n",
    "plt.title('Representative amount of investment in each funding type')\n",
    "plt.ylabel('Amount invested in Millions')\n",
    "plt.show()"
   ]
  },
  {
   "cell_type": "markdown",
   "metadata": {},
   "source": [
    "## Plot 2 - Top 3 countries"
   ]
  },
  {
   "cell_type": "code",
   "execution_count": 91,
   "metadata": {},
   "outputs": [],
   "source": [
    "p9=top9.copy()\n",
    "\n",
    "#Converting raised_amount_usd column to millions (to make scale more interpretable):\n",
    "p9['raised_amount_usd']=p9['raised_amount_usd']/1000000\n",
    "\n",
    "#Making country names shorter (to make plot more interpretable):\n",
    "p9.loc[p9['Country Name']=='United States of America','Country Name'] = 'USA'\n",
    "p9.loc[p9['Country Name']=='United Kingdom of Great Britain and Northern Ireland','Country Name'] = 'UK'"
   ]
  },
  {
   "cell_type": "code",
   "execution_count": 92,
   "metadata": {},
   "outputs": [
    {
     "data": {
      "image/png": "[encoded data removed]",
      "text/plain": [
       "<Figure size 1008x432 with 1 Axes>"
      ]
     },
     "metadata": {
      "needs_background": "light"
     },
     "output_type": "display_data"
    }
   ],
   "source": [
    "plt.figure(figsize=[14,6])\n",
    "sns.barplot(data=p9,x='Country Name',y='raised_amount_usd')\n",
    "plt.title('Total amount of venture type investments in Top 9 countries')\n",
    "plt.ylabel('Amount invested in Millions')\n",
    "plt.show()"
   ]
  },
  {
   "cell_type": "markdown",
   "metadata": {},
   "source": [
    "## Plot 3 - Top 3 sectors in top 3 countries"
   ]
  },
  {
   "cell_type": "code",
   "execution_count": 93,
   "metadata": {},
   "outputs": [],
   "source": [
    "D = D1[['Country Name','Sector']].append(D2[['Country Name','Sector']],ignore_index=True)\n",
    "D = D.append(D3[['Country Name','Sector']],ignore_index=True)"
   ]
  },
  {
   "cell_type": "code",
   "execution_count": 94,
   "metadata": {},
   "outputs": [],
   "source": [
    "#Removing blank Sector values for interpretation:\n",
    "D=D[D['Sector']!=''].reset_index(drop=True)"
   ]
  },
  {
   "cell_type": "code",
   "execution_count": 95,
   "metadata": {},
   "outputs": [],
   "source": [
    "#Changing country name:\n",
    "D.loc[D['Country Name']=='United States of America','Country Name'] = 'USA'\n",
    "D.loc[D['Country Name']=='United Kingdom of Great Britain and Northern Ireland','Country Name'] = 'UK'"
   ]
  },
  {
   "cell_type": "code",
   "execution_count": 96,
   "metadata": {},
   "outputs": [],
   "source": [
    "#To get count of each sector based on country (in pivot table):\n",
    "D['Count']=1"
   ]
  },
  {
   "cell_type": "code",
   "execution_count": 97,
   "metadata": {},
   "outputs": [],
   "source": [
    "p3=pd.pivot_table(D,index='Country Name',columns='Sector',values='Count',aggfunc='sum')"
   ]
  },
  {
   "cell_type": "code",
   "execution_count": 98,
   "metadata": {},
   "outputs": [
    {
     "data": {
      "image/png": "[encoded data removed]",
      "text/plain": [
       "<Figure size 1728x720 with 1 Axes>"
      ]
     },
     "metadata": {
      "needs_background": "light"
     },
     "output_type": "display_data"
    }
   ],
   "source": [
    "p3.plot(kind='barh',stacked=True,figsize=[24,10])\n",
    "plt.title('Top 3 Sectors in Top 3 countriess')\n",
    "plt.show()"
   ]
  }
 ],
 "metadata": {
  "kernelspec": {
   "display_name": "Python 3",
   "language": "python",
   "name": "python3"
  },
  "language_info": {
   "codemirror_mode": {
    "name": "ipython",
    "version": 3
   },
   "file_extension": ".py",
   "mimetype": "text/x-python",
   "name": "python",
   "nbconvert_exporter": "python",
   "pygments_lexer": "ipython3",
   "version": "3.8.8"
  }
 },
 "nbformat": 4,
 "nbformat_minor": 2
}
